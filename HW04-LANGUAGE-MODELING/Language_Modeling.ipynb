{
 "cells": [
  {
   "cell_type": "markdown",
   "metadata": {},
   "source": [
    "<h1><center> <font color=\"red\"> STAY SAFE !! </font> </center></h1>\n",
    "\n",
    "\n",
    "<h1><center>HW4 Language Modeling (LM)</center></h1>\n",
    "<h2><center>Due: April 2020 10th, 23:59</center></h2>\n",
    "\n",
    "In this homework, you will first implement a simple bigram language model on a dataset containing news headlines, learn basic concepts of marcov modeling, words sampling, and perplexity. \n",
    "\n",
    "Then things start get very fun and open ended. You will be shown a simple word based RNN LM. Understand how it works, and then apply changes to it as you wish. Things you can try but not limited to:\n",
    "\n",
    "1. Word based RNN model with subword embedding\n",
    "2. Character based RNN model\n",
    "2. Try different model architecture\n",
    "3. Try different training corprus\n",
    "4. Personalized LM\n",
    "\n",
    "**You are given the following files**:\n",
    "- `Language_Modeling.ipynb`: Notebook file with starter code\n",
    "- `headlines.train`: Training set to train your model\n",
    "- `headlines.dev`: Test set to report your model’s performance\n",
    "- `glove_300d.csv`: Glove embedding truncated for the vocab in the training data\n",
    "- `../utils/`: folder containing all utility code for the series of homeworks\n",
    "\n",
    "**Deriverables**:\n",
    "- pdf or html of the notebook\n",
    "- A report of your own model if you have "
   ]
  },
  {
   "cell_type": "markdown",
   "metadata": {
    "ExecuteTime": {
     "end_time": "2020-03-15T19:52:22.037603Z",
     "start_time": "2020-03-15T19:52:21.343054Z"
    }
   },
   "source": [
    "### ======================== Coding starts here ===================="
   ]
  },
  {
   "cell_type": "markdown",
   "metadata": {},
   "source": [
    "# Setup"
   ]
  },
  {
   "cell_type": "markdown",
   "metadata": {},
   "source": [
    "##  Load functions"
   ]
  },
  {
   "cell_type": "code",
   "execution_count": 1,
   "metadata": {
    "ExecuteTime": {
     "end_time": "2020-03-22T20:39:44.068513Z",
     "start_time": "2020-03-22T20:39:33.927889Z"
    }
   },
   "outputs": [
    {
     "name": "stderr",
     "output_type": "stream",
     "text": [
      "Using TensorFlow backend.\n",
      "/Library/Python/3.7/site-packages/tensorflow/python/framework/dtypes.py:516: FutureWarning: Passing (type, 1) or '1type' as a synonym of type is deprecated; in a future version of numpy, it will be understood as (type, (1,)) / '(1,)type'.\n",
      "  _np_qint8 = np.dtype([(\"qint8\", np.int8, 1)])\n",
      "/Library/Python/3.7/site-packages/tensorflow/python/framework/dtypes.py:517: FutureWarning: Passing (type, 1) or '1type' as a synonym of type is deprecated; in a future version of numpy, it will be understood as (type, (1,)) / '(1,)type'.\n",
      "  _np_quint8 = np.dtype([(\"quint8\", np.uint8, 1)])\n",
      "/Library/Python/3.7/site-packages/tensorflow/python/framework/dtypes.py:518: FutureWarning: Passing (type, 1) or '1type' as a synonym of type is deprecated; in a future version of numpy, it will be understood as (type, (1,)) / '(1,)type'.\n",
      "  _np_qint16 = np.dtype([(\"qint16\", np.int16, 1)])\n",
      "/Library/Python/3.7/site-packages/tensorflow/python/framework/dtypes.py:519: FutureWarning: Passing (type, 1) or '1type' as a synonym of type is deprecated; in a future version of numpy, it will be understood as (type, (1,)) / '(1,)type'.\n",
      "  _np_quint16 = np.dtype([(\"quint16\", np.uint16, 1)])\n",
      "/Library/Python/3.7/site-packages/tensorflow/python/framework/dtypes.py:520: FutureWarning: Passing (type, 1) or '1type' as a synonym of type is deprecated; in a future version of numpy, it will be understood as (type, (1,)) / '(1,)type'.\n",
      "  _np_qint32 = np.dtype([(\"qint32\", np.int32, 1)])\n",
      "/Library/Python/3.7/site-packages/tensorflow/python/framework/dtypes.py:525: FutureWarning: Passing (type, 1) or '1type' as a synonym of type is deprecated; in a future version of numpy, it will be understood as (type, (1,)) / '(1,)type'.\n",
      "  np_resource = np.dtype([(\"resource\", np.ubyte, 1)])\n",
      "/Library/Python/3.7/site-packages/tensorboard/compat/tensorflow_stub/dtypes.py:541: FutureWarning: Passing (type, 1) or '1type' as a synonym of type is deprecated; in a future version of numpy, it will be understood as (type, (1,)) / '(1,)type'.\n",
      "  _np_qint8 = np.dtype([(\"qint8\", np.int8, 1)])\n",
      "/Library/Python/3.7/site-packages/tensorboard/compat/tensorflow_stub/dtypes.py:542: FutureWarning: Passing (type, 1) or '1type' as a synonym of type is deprecated; in a future version of numpy, it will be understood as (type, (1,)) / '(1,)type'.\n",
      "  _np_quint8 = np.dtype([(\"quint8\", np.uint8, 1)])\n",
      "/Library/Python/3.7/site-packages/tensorboard/compat/tensorflow_stub/dtypes.py:543: FutureWarning: Passing (type, 1) or '1type' as a synonym of type is deprecated; in a future version of numpy, it will be understood as (type, (1,)) / '(1,)type'.\n",
      "  _np_qint16 = np.dtype([(\"qint16\", np.int16, 1)])\n",
      "/Library/Python/3.7/site-packages/tensorboard/compat/tensorflow_stub/dtypes.py:544: FutureWarning: Passing (type, 1) or '1type' as a synonym of type is deprecated; in a future version of numpy, it will be understood as (type, (1,)) / '(1,)type'.\n",
      "  _np_quint16 = np.dtype([(\"quint16\", np.uint16, 1)])\n",
      "/Library/Python/3.7/site-packages/tensorboard/compat/tensorflow_stub/dtypes.py:545: FutureWarning: Passing (type, 1) or '1type' as a synonym of type is deprecated; in a future version of numpy, it will be understood as (type, (1,)) / '(1,)type'.\n",
      "  _np_qint32 = np.dtype([(\"qint32\", np.int32, 1)])\n",
      "/Library/Python/3.7/site-packages/tensorboard/compat/tensorflow_stub/dtypes.py:550: FutureWarning: Passing (type, 1) or '1type' as a synonym of type is deprecated; in a future version of numpy, it will be understood as (type, (1,)) / '(1,)type'.\n",
      "  np_resource = np.dtype([(\"resource\", np.ubyte, 1)])\n"
     ]
    }
   ],
   "source": [
    "%load_ext autoreload\n",
    "%autoreload 2\n",
    "%matplotlib inline\n",
    "import os, sys, random\n",
    "import pandas as pd\n",
    "import numpy as np\n",
    "from nltk.stem import WordNetLemmatizer\n",
    "from nltk import word_tokenize\n",
    "\n",
    "# add utils folder to path\n",
    "p = os.path.dirname(os.getcwd())\n",
    "if p not in sys.path:\n",
    "    sys.path = [p] + sys.path\n",
    "\n",
    "from utils.hw4 import (load_data, load_data_char, gen_vocab, START, END, UNK, \n",
    "                       load_embedding)\n",
    "from utils.general import sigmoid, tanh, show_keras_model"
   ]
  },
  {
   "cell_type": "markdown",
   "metadata": {},
   "source": [
    "## Load data "
   ]
  },
  {
   "cell_type": "code",
   "execution_count": 2,
   "metadata": {
    "ExecuteTime": {
     "end_time": "2020-03-22T20:39:45.386244Z",
     "start_time": "2020-03-22T20:39:44.072238Z"
    }
   },
   "outputs": [
    {
     "name": "stdout",
     "output_type": "stream",
     "text": [
      "<START>police probe school break ins<END>\n",
      "<START>prisoner escapes after posing as identical twin<END>\n",
      "<START>majority of public servants satisfied report<END>\n",
      "<START>latrobe valley residents protest over paper mill foreign workers<END>\n",
      "<START>n korea says nuclear talks can resume if<END>\n"
     ]
    }
   ],
   "source": [
    "# The input is trucated for fast iteration\n",
    "# Remember to use the full set of data for your final model training\n",
    "# It may take some time\n",
    "headlines_train = load_data(\"headlines.train\")\n",
    "headlines_dev = load_data(\"headlines.dev\")\n",
    "\n",
    "# Before we begin, let's look at what some of the headlines look like. \n",
    "# Run the following code block as many times as you want to get a sense \n",
    "# of what kind of headlines we hope to generate.\n",
    "for headline in random.sample(headlines_train, 5):\n",
    "    print(START + ' '.join(headline) + END)"
   ]
  },
  {
   "cell_type": "code",
   "execution_count": 3,
   "metadata": {
    "ExecuteTime": {
     "end_time": "2020-03-22T20:39:55.040257Z",
     "start_time": "2020-03-22T20:39:45.406419Z"
    },
    "scrolled": true
   },
   "outputs": [
    {
     "name": "stdout",
     "output_type": "stream",
     "text": [
      "Size of vocab:  19366\n",
      "Longest setence length:  15\n"
     ]
    },
    {
     "data": {
      "text/html": [
       "<div>\n",
       "<style scoped>\n",
       "    .dataframe tbody tr th:only-of-type {\n",
       "        vertical-align: middle;\n",
       "    }\n",
       "\n",
       "    .dataframe tbody tr th {\n",
       "        vertical-align: top;\n",
       "    }\n",
       "\n",
       "    .dataframe thead th {\n",
       "        text-align: right;\n",
       "    }\n",
       "</style>\n",
       "<table border=\"1\" class=\"dataframe\">\n",
       "  <thead>\n",
       "    <tr style=\"text-align: right;\">\n",
       "      <th></th>\n",
       "      <th>&lt;UNK&gt;</th>\n",
       "      <th>&lt;START&gt;</th>\n",
       "      <th>&lt;END&gt;</th>\n",
       "      <th>to</th>\n",
       "      <th>in</th>\n",
       "      <th>for</th>\n",
       "      <th>of</th>\n",
       "      <th>on</th>\n",
       "      <th>over</th>\n",
       "      <th>the</th>\n",
       "      <th>...</th>\n",
       "      <th>doctoring</th>\n",
       "      <th>udia</th>\n",
       "      <th>aircon</th>\n",
       "      <th>kent</th>\n",
       "      <th>squalor</th>\n",
       "      <th>pilkadaris</th>\n",
       "      <th>jb</th>\n",
       "      <th>tc</th>\n",
       "      <th>troupe</th>\n",
       "      <th>hotham</th>\n",
       "    </tr>\n",
       "  </thead>\n",
       "  <tbody>\n",
       "    <tr>\n",
       "      <th>0</th>\n",
       "      <td>-0.021299</td>\n",
       "      <td>-0.284755</td>\n",
       "      <td>0.140351</td>\n",
       "      <td>-0.248370</td>\n",
       "      <td>0.068507</td>\n",
       "      <td>-0.23909</td>\n",
       "      <td>-0.036429</td>\n",
       "      <td>0.000607</td>\n",
       "      <td>-0.089285</td>\n",
       "      <td>-0.208380</td>\n",
       "      <td>...</td>\n",
       "      <td>0.065363</td>\n",
       "      <td>0.784056</td>\n",
       "      <td>0.274826</td>\n",
       "      <td>-0.003250</td>\n",
       "      <td>0.082989</td>\n",
       "      <td>0.091578</td>\n",
       "      <td>0.093491</td>\n",
       "      <td>-0.204886</td>\n",
       "      <td>-0.358151</td>\n",
       "      <td>0.435992</td>\n",
       "    </tr>\n",
       "    <tr>\n",
       "      <th>1</th>\n",
       "      <td>-0.029468</td>\n",
       "      <td>0.306007</td>\n",
       "      <td>-0.072337</td>\n",
       "      <td>-0.454610</td>\n",
       "      <td>-0.023344</td>\n",
       "      <td>-0.64189</td>\n",
       "      <td>-0.285920</td>\n",
       "      <td>0.048631</td>\n",
       "      <td>-0.077838</td>\n",
       "      <td>-0.149320</td>\n",
       "      <td>...</td>\n",
       "      <td>0.058368</td>\n",
       "      <td>0.256304</td>\n",
       "      <td>0.261054</td>\n",
       "      <td>-0.023698</td>\n",
       "      <td>-0.029252</td>\n",
       "      <td>0.044466</td>\n",
       "      <td>0.592242</td>\n",
       "      <td>0.427977</td>\n",
       "      <td>-0.236637</td>\n",
       "      <td>-0.322775</td>\n",
       "    </tr>\n",
       "    <tr>\n",
       "      <th>2</th>\n",
       "      <td>-0.014882</td>\n",
       "      <td>-0.324568</td>\n",
       "      <td>-0.209596</td>\n",
       "      <td>0.039227</td>\n",
       "      <td>0.282710</td>\n",
       "      <td>-0.58322</td>\n",
       "      <td>0.063387</td>\n",
       "      <td>0.489690</td>\n",
       "      <td>-0.295420</td>\n",
       "      <td>-0.017528</td>\n",
       "      <td>...</td>\n",
       "      <td>-0.377588</td>\n",
       "      <td>-0.914117</td>\n",
       "      <td>-0.097649</td>\n",
       "      <td>-0.002529</td>\n",
       "      <td>0.097430</td>\n",
       "      <td>0.114199</td>\n",
       "      <td>-0.451862</td>\n",
       "      <td>-0.107156</td>\n",
       "      <td>0.221786</td>\n",
       "      <td>-0.356868</td>\n",
       "    </tr>\n",
       "    <tr>\n",
       "      <th>3</th>\n",
       "      <td>0.006492</td>\n",
       "      <td>0.038284</td>\n",
       "      <td>0.078233</td>\n",
       "      <td>-0.284220</td>\n",
       "      <td>-0.402150</td>\n",
       "      <td>-0.54743</td>\n",
       "      <td>-0.601220</td>\n",
       "      <td>0.427770</td>\n",
       "      <td>-0.335840</td>\n",
       "      <td>-0.028432</td>\n",
       "      <td>...</td>\n",
       "      <td>-0.148528</td>\n",
       "      <td>0.864144</td>\n",
       "      <td>-0.088590</td>\n",
       "      <td>0.028246</td>\n",
       "      <td>0.144958</td>\n",
       "      <td>-0.115276</td>\n",
       "      <td>0.547550</td>\n",
       "      <td>0.418092</td>\n",
       "      <td>-0.262851</td>\n",
       "      <td>0.492316</td>\n",
       "    </tr>\n",
       "    <tr>\n",
       "      <th>4</th>\n",
       "      <td>0.010641</td>\n",
       "      <td>0.130105</td>\n",
       "      <td>0.062671</td>\n",
       "      <td>-0.031852</td>\n",
       "      <td>0.077815</td>\n",
       "      <td>0.42386</td>\n",
       "      <td>-0.015309</td>\n",
       "      <td>-0.386100</td>\n",
       "      <td>0.287430</td>\n",
       "      <td>-0.060104</td>\n",
       "      <td>...</td>\n",
       "      <td>-0.380280</td>\n",
       "      <td>0.396062</td>\n",
       "      <td>0.270563</td>\n",
       "      <td>0.027954</td>\n",
       "      <td>-0.042216</td>\n",
       "      <td>-0.007769</td>\n",
       "      <td>0.375876</td>\n",
       "      <td>0.349217</td>\n",
       "      <td>0.290543</td>\n",
       "      <td>-0.495698</td>\n",
       "    </tr>\n",
       "  </tbody>\n",
       "</table>\n",
       "<p>5 rows × 19366 columns</p>\n",
       "</div>"
      ],
      "text/plain": [
       "      <UNK>   <START>     <END>        to        in      for        of  \\\n",
       "0 -0.021299 -0.284755  0.140351 -0.248370  0.068507 -0.23909 -0.036429   \n",
       "1 -0.029468  0.306007 -0.072337 -0.454610 -0.023344 -0.64189 -0.285920   \n",
       "2 -0.014882 -0.324568 -0.209596  0.039227  0.282710 -0.58322  0.063387   \n",
       "3  0.006492  0.038284  0.078233 -0.284220 -0.402150 -0.54743 -0.601220   \n",
       "4  0.010641  0.130105  0.062671 -0.031852  0.077815  0.42386 -0.015309   \n",
       "\n",
       "         on      over       the  ...  doctoring      udia    aircon      kent  \\\n",
       "0  0.000607 -0.089285 -0.208380  ...   0.065363  0.784056  0.274826 -0.003250   \n",
       "1  0.048631 -0.077838 -0.149320  ...   0.058368  0.256304  0.261054 -0.023698   \n",
       "2  0.489690 -0.295420 -0.017528  ...  -0.377588 -0.914117 -0.097649 -0.002529   \n",
       "3  0.427770 -0.335840 -0.028432  ...  -0.148528  0.864144 -0.088590  0.028246   \n",
       "4 -0.386100  0.287430 -0.060104  ...  -0.380280  0.396062  0.270563  0.027954   \n",
       "\n",
       "    squalor  pilkadaris        jb        tc    troupe    hotham  \n",
       "0  0.082989    0.091578  0.093491 -0.204886 -0.358151  0.435992  \n",
       "1 -0.029252    0.044466  0.592242  0.427977 -0.236637 -0.322775  \n",
       "2  0.097430    0.114199 -0.451862 -0.107156  0.221786 -0.356868  \n",
       "3  0.144958   -0.115276  0.547550  0.418092 -0.262851  0.492316  \n",
       "4 -0.042216   -0.007769  0.375876  0.349217  0.290543 -0.495698  \n",
       "\n",
       "[5 rows x 19366 columns]"
      ]
     },
     "execution_count": 3,
     "metadata": {},
     "output_type": "execute_result"
    }
   ],
   "source": [
    "# Calculate the vocab list and the embedding \n",
    "# It (might) be helpful to remove low frequency words, so the model learns how to\n",
    "# treat unseen vocabulary\n",
    "vocab, re_vocab = gen_vocab(headlines_train, 4)\n",
    "sent_len = max([len(s) for s in headlines_train]) + 1\n",
    "\n",
    "print(\"Size of vocab: \", len(vocab))\n",
    "print(\"Longest setence length: \", sent_len)\n",
    "\n",
    "# Load the embedding, trick is played to fill the missing vocab\n",
    "# you can look into the source file to see what it actually does\n",
    "# This embedding file is truncated for vocab used in this dataset\n",
    "# If you are to train your own model with your own data, remember to download\n",
    "# the original embedding here: https://nlp.stanford.edu/projects/glove/\n",
    "glove = load_embedding('glove_300d.csv', vocab=vocab)\n",
    "\n",
    "glove.T.head()"
   ]
  },
  {
   "cell_type": "code",
   "execution_count": 4,
   "metadata": {
    "ExecuteTime": {
     "end_time": "2020-03-22T20:39:55.155696Z",
     "start_time": "2020-03-22T20:39:55.044811Z"
    }
   },
   "outputs": [],
   "source": [
    "# Transform the DF to np array\n",
    "glove = glove.values"
   ]
  },
  {
   "cell_type": "markdown",
   "metadata": {},
   "source": [
    "## Util function"
   ]
  },
  {
   "cell_type": "code",
   "execution_count": 7,
   "metadata": {
    "ExecuteTime": {
     "end_time": "2020-03-22T20:39:55.273785Z",
     "start_time": "2020-03-22T20:39:55.159796Z"
    }
   },
   "outputs": [],
   "source": [
    "def to_label(token):\n",
    "    \"\"\"\n",
    "    Simply transfer a token to its numerical label, if the token is not int\n",
    "    the vocab, return the label of UNK\n",
    "    input: \n",
    "        token: str\n",
    "        \n",
    "    output:\n",
    "        int\n",
    "    \"\"\"\n",
    "    return re_vocab.get(token, re_vocab[UNK])\n",
    "\n",
    "def to_embedding(X):\n",
    "    \"\"\"\n",
    "    For the 2 dimensional input X filled with the vocabulary label, \n",
    "    return an np.array of their embedding\n",
    "    \n",
    "    input:\n",
    "        X: np.array(n_sample, sent_len)\n",
    "        \n",
    "    return:\n",
    "        embdding\n",
    "    \"\"\"\n",
    "    embedding = np.zeros((len(X), len(X[0]), glove.shape[1]))\n",
    "    \n",
    "    for i in range(len(X)):\n",
    "        for j in range(len(X[0])):\n",
    "            embedding[i,j,:] = glove[X[i][j]] \n",
    "    \n",
    "    return embedding\n",
    "\n",
    "def sample_with_weight(prob, avoid_UNK=True):\n",
    "    \"\"\"\n",
    "    For a given probability distribution, return a random int sampled by the\n",
    "    probability distribution. \n",
    "    \n",
    "    input:\n",
    "        prob: list of float probability\n",
    "        avoid_UNK: boolean, if UNK should be excluded\n",
    "    \"\"\"\n",
    "    unk_idx = re_vocab[UNK]\n",
    "    \n",
    "    if avoid_UNK: \n",
    "        prob[unk_idx] = 0 # Make sure we do not use UNK in the generated text\n",
    "    \n",
    "    # If the distribution is 0, use uniform distribution\n",
    "    if prob.sum() <= 0:\n",
    "        prob[1:] = 1.0\n",
    "        \n",
    "    return np.random.choice(range(len(prob)), p=prob/prob.sum())"
   ]
  },
  {
   "cell_type": "markdown",
   "metadata": {},
   "source": [
    "# Tri-gram (second order) Markov Model"
   ]
  },
  {
   "cell_type": "markdown",
   "metadata": {},
   "source": [
    "## Build FNN  Bi-Gram model"
   ]
  },
  {
   "cell_type": "code",
   "execution_count": 8,
   "metadata": {
    "ExecuteTime": {
     "end_time": "2020-03-22T20:39:56.259783Z",
     "start_time": "2020-03-22T20:39:55.280568Z"
    },
    "scrolled": false
   },
   "outputs": [
    {
     "name": "stderr",
     "output_type": "stream",
     "text": [
      "WARNING: Logging before flag parsing goes to stderr.\n",
      "W0411 22:05:35.925065 4525321664 deprecation_wrapper.py:119] From /usr/local/lib/python3.6/site-packages/keras/backend/tensorflow_backend.py:74: The name tf.get_default_graph is deprecated. Please use tf.compat.v1.get_default_graph instead.\n",
      "\n",
      "W0411 22:05:35.962076 4525321664 deprecation_wrapper.py:119] From /usr/local/lib/python3.6/site-packages/keras/backend/tensorflow_backend.py:517: The name tf.placeholder is deprecated. Please use tf.compat.v1.placeholder instead.\n",
      "\n",
      "W0411 22:05:35.993237 4525321664 deprecation_wrapper.py:119] From /usr/local/lib/python3.6/site-packages/keras/backend/tensorflow_backend.py:4138: The name tf.random_uniform is deprecated. Please use tf.random.uniform instead.\n",
      "\n"
     ]
    },
    {
     "name": "stdout",
     "output_type": "stream",
     "text": [
      "_________________________________________________________________\n",
      "Layer (type)                 Output Shape              Param #   \n",
      "=================================================================\n",
      "reshape_1 (Reshape)          (None, 600)               0         \n",
      "_________________________________________________________________\n",
      "Dense-1 (Dense)              (None, 100)               60100     \n",
      "_________________________________________________________________\n",
      "Dense-2 (Dense)              (None, 19366)             1955966   \n",
      "=================================================================\n",
      "Total params: 2,016,066\n",
      "Trainable params: 2,016,066\n",
      "Non-trainable params: 0\n",
      "_________________________________________________________________\n"
     ]
    },
    {
     "data": {
      "image/png": "[encoded data removed]",
      "text/plain": [
       "<IPython.core.display.Image object>"
      ]
     },
     "execution_count": 8,
     "metadata": {},
     "output_type": "execute_result"
    }
   ],
   "source": [
    "from keras.models import Sequential\n",
    "from keras.layers import Dense, Reshape\n",
    "\n",
    "n_gram = 2\n",
    "\n",
    "# For simplicity, we use the embedding of words to feed the model, therefore\n",
    "# no need to add a Embedding layer in the begining. But for a possibly better performance\n",
    "# you can add a embedding layer, even better if you use the glove embedding matrix as the\n",
    "# initial value for the embedding layer\n",
    "# This is useful also because we have filled the embedding with random values for those missing\n",
    "# vocabularies, allowing the embedding matrix to relax during training will improve the performance \n",
    "# for these words as well. But be prepared that this would slow down the training\n",
    "FNN_model = Sequential()\n",
    "FNN_model.add(Reshape(target_shape=(n_gram * glove.shape[1],), \n",
    "                      input_shape=(n_gram, glove.shape[1],)))\n",
    "FNN_model.add(Dense(100, activation=\"relu\", name=\"Dense-1\"))\n",
    "FNN_model.add(Dense(len(vocab), activation=\"softmax\", name=\"Dense-2\"))\n",
    "\n",
    "FNN_model.summary()\n",
    "show_keras_model(FNN_model)"
   ]
  },
  {
   "cell_type": "markdown",
   "metadata": {},
   "source": [
    "## Training data generator"
   ]
  },
  {
   "cell_type": "code",
   "execution_count": 9,
   "metadata": {
    "ExecuteTime": {
     "end_time": "2020-03-22T20:39:56.387115Z",
     "start_time": "2020-03-22T20:39:56.263841Z"
    }
   },
   "outputs": [],
   "source": [
    "from keras.utils import to_categorical\n",
    "import random\n",
    "\n",
    "def gen_sample_FNN(data, batch_size=1000, one_hot=True):\n",
    "    \"\"\"\n",
    "    For training the model, we need to shift the data by -1 to produce\n",
    "    label, i.g.\n",
    "    [\"word1\", \"word2\", \"word3\", \"word4\"] --> \n",
    "    X: [[START, STSRT],\n",
    "        [START, 1],\n",
    "        [1, 2],\n",
    "        [2, 3],\n",
    "        [3, 4]]\n",
    "    Y: [1, 2, 3, 4, ...] if one_hot is False, the label is translated to \n",
    "        one-hot if ont_hot is True\n",
    "    \n",
    "    inputs:\n",
    "        data: list of list of strings\n",
    "        batch_size: int\n",
    "        one_hot: boolean\n",
    "        \n",
    "    outputs:\n",
    "        X: np.array(batch_size, n_gram, embedding_dim)\n",
    "        Y: np.array(batch_size, ) or np.array(batch_size, vocab_size)\n",
    "        \n",
    "    batch size is used to control the size for each data batch\n",
    "    set batch_size = -1 if you don't want to generate by batch\n",
    "    \"\"\"\n",
    "    if batch_size == -1:\n",
    "        batch_size = sum([len(s) + 1 for s in data])\n",
    "        \n",
    "    while True:\n",
    "        # Use shuffle so the order in each epoch is different\n",
    "        random.shuffle(data)\n",
    "\n",
    "        X, Y = [], []\n",
    "        for d in data:\n",
    "            encodes = [re_vocab[START], re_vocab[START]] +\\\n",
    "                      [to_label(t) for t in d] +\\\n",
    "                      [re_vocab[END]]\n",
    "            for i in range(len(encodes) - 2):\n",
    "                X.append([encodes[i], encodes[i+1]])\n",
    "                Y.append(encodes[i+2])\n",
    "\n",
    "                if len(X) >= batch_size:\n",
    "                    X = to_embedding(X)\n",
    "                    Y = np.array(Y)\n",
    "                    \n",
    "                    if one_hot:\n",
    "                        Y = to_categorical(Y, num_classes=len(re_vocab))\n",
    "                        \n",
    "                    yield X, Y\n",
    "                    X, Y = [], []"
   ]
  },
  {
   "cell_type": "markdown",
   "metadata": {},
   "source": [
    "## Generate text"
   ]
  },
  {
   "cell_type": "code",
   "execution_count": 10,
   "metadata": {
    "ExecuteTime": {
     "end_time": "2020-03-22T20:39:56.504701Z",
     "start_time": "2020-03-22T20:39:56.393718Z"
    }
   },
   "outputs": [],
   "source": [
    "def generate_text_FNN(model, max_len=sent_len-1, seed=None):\n",
    "    \"\"\"\n",
    "    For a given FNN model, generate text. If seed is not provided,\n",
    "    use START as initial seed.\n",
    "    \n",
    "    inputs:\n",
    "        model: FNN model\n",
    "        max_len: int, maximum length of the setence\n",
    "        seed: str, the seed word used to generate the text\n",
    "    \"\"\"\n",
    "    \n",
    "    result = []\n",
    "    prev = START\n",
    "    if not seed:\n",
    "        seed = START # <START> <START>  // <START> seed\n",
    "    result.append(seed)\n",
    "    next_word = None\n",
    "    while len(result) < max_len and next_word != END:\n",
    "        input_X = [[to_label(prev),to_label(seed)]]\n",
    "        input_X = to_embedding(input_X)\n",
    "        prob = model.predict(input_X).flatten()\n",
    "        sample = sample_with_weight(prob)\n",
    "        next_word = vocab[sample]\n",
    "        result.append(next_word)\n",
    "        prev, seed = seed, next_word\n",
    "    \n",
    "    \"\"\"\n",
    "    hints:\n",
    "    1. It's a trigram model, what your intial seed look like?\n",
    "    2. The prediction of each state should return a list of probability, use the \n",
    "       `sample_with_weight` function to help you sample the next word.\n",
    "    3. When the word END is sampled, you need to stop the setence. Also use the max_len\n",
    "       to force ending the setence to avoid the program running forever.\n",
    "    \"\"\"\n",
    "        \n",
    "    return ' '.join(result)"
   ]
  },
  {
   "cell_type": "code",
   "execution_count": 11,
   "metadata": {
    "ExecuteTime": {
     "end_time": "2020-03-22T20:39:56.697802Z",
     "start_time": "2020-03-22T20:39:56.510836Z"
    }
   },
   "outputs": [
    {
     "name": "stderr",
     "output_type": "stream",
     "text": [
      "W0411 22:05:41.307667 4525321664 deprecation_wrapper.py:119] From /usr/local/lib/python3.6/site-packages/keras/backend/tensorflow_backend.py:2741: The name tf.Session is deprecated. Please use tf.compat.v1.Session instead.\n",
      "\n",
      "W0411 22:05:41.310365 4525321664 deprecation_wrapper.py:119] From /usr/local/lib/python3.6/site-packages/keras/backend/tensorflow_backend.py:174: The name tf.get_default_session is deprecated. Please use tf.compat.v1.get_default_session instead.\n",
      "\n"
     ]
    },
    {
     "data": {
      "text/plain": [
       "'china ipcc bella distribution refutes institution caleb von shotgun wasting masterchef accounting rather dealings'"
      ]
     },
     "execution_count": 11,
     "metadata": {},
     "output_type": "execute_result"
    }
   ],
   "source": [
    "# Before we train the model, let first check if the text generation function\n",
    "# works as expected. Don't worry if the sentence doesn't make any sense.\n",
    "# We haven't trained the model yet!\n",
    "generate_text_FNN(FNN_model, seed=\"china\")"
   ]
  },
  {
   "cell_type": "markdown",
   "metadata": {},
   "source": [
    "## Calculate Perplexity"
   ]
  },
  {
   "cell_type": "code",
   "execution_count": 12,
   "metadata": {
    "ExecuteTime": {
     "end_time": "2020-03-22T20:39:56.801374Z",
     "start_time": "2020-03-22T20:39:56.700970Z"
    }
   },
   "outputs": [],
   "source": [
    "def calculate_perplexity_FNN(model, X, y):\n",
    "    \"\"\"\n",
    "    For a given FNN model, and test data, calcualte the perplexity.\n",
    "    The definition of perplexity is:\n",
    "    \n",
    "    perplexity = exp(- \\sum_i log(P_i) / N)\n",
    "    \n",
    "    inputs:\n",
    "        model: FNN model\n",
    "        X: np.array(n_sample, n_gram, embedding_dim)\n",
    "        y: np.array(n_sample), int label of the next word    \n",
    "    \"\"\"\n",
    "    \n",
    "    prob = model.predict(X)\n",
    "    P = 0.\n",
    "    N = len(y)\n",
    "    for s in range(N):\n",
    "        P += np.log(prob[s,y[s]])\n",
    "    \n",
    "    perplexity = np.exp(-P/N)\n",
    "    \n",
    "    \"\"\"\n",
    "    \n",
    "    hits:\n",
    "        1. First make the prod prediction using the model\n",
    "        2. The probability at the position of y is what you look for\n",
    "    \n",
    "    When you have too much UNK word, you will find the perplexity to be lower, but it doesn't \n",
    "    really mean your model is better, can you think why?\n",
    "    \"\"\"\n",
    "\n",
    "    return perplexity"
   ]
  },
  {
   "cell_type": "markdown",
   "metadata": {},
   "source": [
    " When we have too much UNK word in the dev set, that means the dev set has many words that is not in the training set vocabulary, When y_i is UNKNOWN P_i would be large, then perplexity is small. The preplexity only reflects the goodness of prediction when most of the words are using the save vocab and does not have many UNKNOWNS.\n",
    " \n",
    "if the model predict a lot of UNK words. he UNK word will process a very high probabality while the other tokens have lower probablities. The labels are meaningful words so the P_i will be a very small positive number, then the perplexity is also going to be unreasonable small.\n",
    " \n",
    " if the model just predict random probablitities, then:\n",
    " \n",
    " $p_i ～= \\frac{1}{vocab\\_size}$\n",
    " \n",
    " $\\sum_i log(P_i) / N = - N * \\frac{log(vocab\\_size)}{N} = - log(vocab\\_size)$\n",
    " \n",
    " $perplexity = exp(- \\sum_i log(P_i) / N) = vocab\\_size$"
   ]
  },
  {
   "cell_type": "code",
   "execution_count": 13,
   "metadata": {
    "ExecuteTime": {
     "end_time": "2020-03-22T20:39:56.989407Z",
     "start_time": "2020-03-22T20:39:56.804347Z"
    }
   },
   "outputs": [
    {
     "data": {
      "text/plain": [
       "19379.232239654484"
      ]
     },
     "execution_count": 13,
     "metadata": {},
     "output_type": "execute_result"
    }
   ],
   "source": [
    "# Let check the perplexity for the untrained model\n",
    "# Is your value close to the number of vocabulary? \n",
    "# Is this a coincidence?\n",
    "X_dev_FNN, y_dev_FNN = next(gen_sample_FNN(headlines_dev, batch_size=-1, one_hot=False))\n",
    "\n",
    "calculate_perplexity_FNN(FNN_model, X_dev_FNN, y_dev_FNN)"
   ]
  },
  {
   "cell_type": "markdown",
   "metadata": {
    "ExecuteTime": {
     "end_time": "2020-03-15T23:12:21.429617Z",
     "start_time": "2020-03-15T23:12:21.302324Z"
    }
   },
   "source": [
    "## Training the model"
   ]
  },
  {
   "cell_type": "code",
   "execution_count": 14,
   "metadata": {
    "ExecuteTime": {
     "end_time": "2020-03-22T20:39:57.098613Z",
     "start_time": "2020-03-22T20:39:56.992714Z"
    }
   },
   "outputs": [],
   "source": [
    "\"\"\"\n",
    "Let's use the function defined above to report the model performance\n",
    "after each epoch\n",
    "\"\"\"\n",
    "def on_epoch_end_FNN(epoch, logs):\n",
    "    print('----- Generating text after Epoch: %d' % epoch)\n",
    "    for i in range(3):\n",
    "        print(generate_text_FNN(FNN_model))\n",
    "    print('Current perplexity on dev data: ', \n",
    "          calculate_perplexity_FNN(FNN_model, X_dev_FNN, y_dev_FNN), '\\n')"
   ]
  },
  {
   "cell_type": "code",
   "execution_count": 15,
   "metadata": {
    "ExecuteTime": {
     "end_time": "2020-03-22T20:41:22.859257Z",
     "start_time": "2020-03-22T20:39:57.101814Z"
    }
   },
   "outputs": [
    {
     "name": "stderr",
     "output_type": "stream",
     "text": [
      "W0411 22:06:00.654759 4525321664 deprecation_wrapper.py:119] From /usr/local/lib/python3.6/site-packages/keras/optimizers.py:790: The name tf.train.Optimizer is deprecated. Please use tf.compat.v1.train.Optimizer instead.\n",
      "\n",
      "W0411 22:06:00.847187 4525321664 deprecation.py:323] From /usr/local/lib/python3.6/site-packages/tensorflow/python/ops/math_grad.py:1250: add_dispatch_support.<locals>.wrapper (from tensorflow.python.ops.array_ops) is deprecated and will be removed in a future version.\n",
      "Instructions for updating:\n",
      "Use tf.where in 2.0, which has the same broadcast rule as np.where\n"
     ]
    },
    {
     "name": "stdout",
     "output_type": "stream",
     "text": [
      "Epoch 1/10\n",
      "  39/2892 [..............................] - ETA: 13:21 - loss: 8.9232 - acc: 0.1096 - top_k_categorical_accuracy: 0.1897"
     ]
    },
    {
     "ename": "KeyboardInterrupt",
     "evalue": "",
     "output_type": "error",
     "traceback": [
      "\u001b[0;31m---------------------------------------------------------------------------\u001b[0m",
      "\u001b[0;31mKeyboardInterrupt\u001b[0m                         Traceback (most recent call last)",
      "\u001b[0;32m<ipython-input-15-cc9d5461a3e8>\u001b[0m in \u001b[0;36m<module>\u001b[0;34m\u001b[0m\n\u001b[1;32m     12\u001b[0m FNN_model.fit_generator(gen_sample_FNN(headlines_train, batch_size=batch_size), \n\u001b[1;32m     13\u001b[0m                         \u001b[0mepochs\u001b[0m \u001b[0;34m=\u001b[0m \u001b[0;36m10\u001b[0m\u001b[0;34m,\u001b[0m \u001b[0msteps_per_epoch\u001b[0m\u001b[0;34m=\u001b[0m\u001b[0msteps_per_epoch\u001b[0m\u001b[0;34m,\u001b[0m\u001b[0;34m\u001b[0m\u001b[0m\n\u001b[0;32m---> 14\u001b[0;31m                         callbacks=[LambdaCallback(on_epoch_end=on_epoch_end_FNN)])\n\u001b[0m",
      "\u001b[0;32m/usr/local/lib/python3.6/site-packages/keras/legacy/interfaces.py\u001b[0m in \u001b[0;36mwrapper\u001b[0;34m(*args, **kwargs)\u001b[0m\n\u001b[1;32m     89\u001b[0m                 warnings.warn('Update your `' + object_name + '` call to the ' +\n\u001b[1;32m     90\u001b[0m                               'Keras 2 API: ' + signature, stacklevel=2)\n\u001b[0;32m---> 91\u001b[0;31m             \u001b[0;32mreturn\u001b[0m \u001b[0mfunc\u001b[0m\u001b[0;34m(\u001b[0m\u001b[0;34m*\u001b[0m\u001b[0margs\u001b[0m\u001b[0;34m,\u001b[0m \u001b[0;34m**\u001b[0m\u001b[0mkwargs\u001b[0m\u001b[0;34m)\u001b[0m\u001b[0;34m\u001b[0m\u001b[0m\n\u001b[0m\u001b[1;32m     92\u001b[0m         \u001b[0mwrapper\u001b[0m\u001b[0;34m.\u001b[0m\u001b[0m_original_function\u001b[0m \u001b[0;34m=\u001b[0m \u001b[0mfunc\u001b[0m\u001b[0;34m\u001b[0m\u001b[0m\n\u001b[1;32m     93\u001b[0m         \u001b[0;32mreturn\u001b[0m \u001b[0mwrapper\u001b[0m\u001b[0;34m\u001b[0m\u001b[0m\n",
      "\u001b[0;32m/usr/local/lib/python3.6/site-packages/keras/engine/training.py\u001b[0m in \u001b[0;36mfit_generator\u001b[0;34m(self, generator, steps_per_epoch, epochs, verbose, callbacks, validation_data, validation_steps, class_weight, max_queue_size, workers, use_multiprocessing, shuffle, initial_epoch)\u001b[0m\n\u001b[1;32m   1416\u001b[0m             \u001b[0muse_multiprocessing\u001b[0m\u001b[0;34m=\u001b[0m\u001b[0muse_multiprocessing\u001b[0m\u001b[0;34m,\u001b[0m\u001b[0;34m\u001b[0m\u001b[0m\n\u001b[1;32m   1417\u001b[0m             \u001b[0mshuffle\u001b[0m\u001b[0;34m=\u001b[0m\u001b[0mshuffle\u001b[0m\u001b[0;34m,\u001b[0m\u001b[0;34m\u001b[0m\u001b[0m\n\u001b[0;32m-> 1418\u001b[0;31m             initial_epoch=initial_epoch)\n\u001b[0m\u001b[1;32m   1419\u001b[0m \u001b[0;34m\u001b[0m\u001b[0m\n\u001b[1;32m   1420\u001b[0m     \u001b[0;34m@\u001b[0m\u001b[0minterfaces\u001b[0m\u001b[0;34m.\u001b[0m\u001b[0mlegacy_generator_methods_support\u001b[0m\u001b[0;34m\u001b[0m\u001b[0m\n",
      "\u001b[0;32m/usr/local/lib/python3.6/site-packages/keras/engine/training_generator.py\u001b[0m in \u001b[0;36mfit_generator\u001b[0;34m(model, generator, steps_per_epoch, epochs, verbose, callbacks, validation_data, validation_steps, class_weight, max_queue_size, workers, use_multiprocessing, shuffle, initial_epoch)\u001b[0m\n\u001b[1;32m    215\u001b[0m                 outs = model.train_on_batch(x, y,\n\u001b[1;32m    216\u001b[0m                                             \u001b[0msample_weight\u001b[0m\u001b[0;34m=\u001b[0m\u001b[0msample_weight\u001b[0m\u001b[0;34m,\u001b[0m\u001b[0;34m\u001b[0m\u001b[0m\n\u001b[0;32m--> 217\u001b[0;31m                                             class_weight=class_weight)\n\u001b[0m\u001b[1;32m    218\u001b[0m \u001b[0;34m\u001b[0m\u001b[0m\n\u001b[1;32m    219\u001b[0m                 \u001b[0mouts\u001b[0m \u001b[0;34m=\u001b[0m \u001b[0mto_list\u001b[0m\u001b[0;34m(\u001b[0m\u001b[0mouts\u001b[0m\u001b[0;34m)\u001b[0m\u001b[0;34m\u001b[0m\u001b[0m\n",
      "\u001b[0;32m/usr/local/lib/python3.6/site-packages/keras/engine/training.py\u001b[0m in \u001b[0;36mtrain_on_batch\u001b[0;34m(self, x, y, sample_weight, class_weight)\u001b[0m\n\u001b[1;32m   1215\u001b[0m             \u001b[0mins\u001b[0m \u001b[0;34m=\u001b[0m \u001b[0mx\u001b[0m \u001b[0;34m+\u001b[0m \u001b[0my\u001b[0m \u001b[0;34m+\u001b[0m \u001b[0msample_weights\u001b[0m\u001b[0;34m\u001b[0m\u001b[0m\n\u001b[1;32m   1216\u001b[0m         \u001b[0mself\u001b[0m\u001b[0;34m.\u001b[0m\u001b[0m_make_train_function\u001b[0m\u001b[0;34m(\u001b[0m\u001b[0;34m)\u001b[0m\u001b[0;34m\u001b[0m\u001b[0m\n\u001b[0;32m-> 1217\u001b[0;31m         \u001b[0moutputs\u001b[0m \u001b[0;34m=\u001b[0m \u001b[0mself\u001b[0m\u001b[0;34m.\u001b[0m\u001b[0mtrain_function\u001b[0m\u001b[0;34m(\u001b[0m\u001b[0mins\u001b[0m\u001b[0;34m)\u001b[0m\u001b[0;34m\u001b[0m\u001b[0m\n\u001b[0m\u001b[1;32m   1218\u001b[0m         \u001b[0;32mreturn\u001b[0m \u001b[0munpack_singleton\u001b[0m\u001b[0;34m(\u001b[0m\u001b[0moutputs\u001b[0m\u001b[0;34m)\u001b[0m\u001b[0;34m\u001b[0m\u001b[0m\n\u001b[1;32m   1219\u001b[0m \u001b[0;34m\u001b[0m\u001b[0m\n",
      "\u001b[0;32m/usr/local/lib/python3.6/site-packages/keras/backend/tensorflow_backend.py\u001b[0m in \u001b[0;36m__call__\u001b[0;34m(self, inputs)\u001b[0m\n\u001b[1;32m   2713\u001b[0m                 \u001b[0;32mreturn\u001b[0m \u001b[0mself\u001b[0m\u001b[0;34m.\u001b[0m\u001b[0m_legacy_call\u001b[0m\u001b[0;34m(\u001b[0m\u001b[0minputs\u001b[0m\u001b[0;34m)\u001b[0m\u001b[0;34m\u001b[0m\u001b[0m\n\u001b[1;32m   2714\u001b[0m \u001b[0;34m\u001b[0m\u001b[0m\n\u001b[0;32m-> 2715\u001b[0;31m             \u001b[0;32mreturn\u001b[0m \u001b[0mself\u001b[0m\u001b[0;34m.\u001b[0m\u001b[0m_call\u001b[0m\u001b[0;34m(\u001b[0m\u001b[0minputs\u001b[0m\u001b[0;34m)\u001b[0m\u001b[0;34m\u001b[0m\u001b[0m\n\u001b[0m\u001b[1;32m   2716\u001b[0m         \u001b[0;32melse\u001b[0m\u001b[0;34m:\u001b[0m\u001b[0;34m\u001b[0m\u001b[0m\n\u001b[1;32m   2717\u001b[0m             \u001b[0;32mif\u001b[0m \u001b[0mpy_any\u001b[0m\u001b[0;34m(\u001b[0m\u001b[0mis_tensor\u001b[0m\u001b[0;34m(\u001b[0m\u001b[0mx\u001b[0m\u001b[0;34m)\u001b[0m \u001b[0;32mfor\u001b[0m \u001b[0mx\u001b[0m \u001b[0;32min\u001b[0m \u001b[0minputs\u001b[0m\u001b[0;34m)\u001b[0m\u001b[0;34m:\u001b[0m\u001b[0;34m\u001b[0m\u001b[0m\n",
      "\u001b[0;32m/usr/local/lib/python3.6/site-packages/keras/backend/tensorflow_backend.py\u001b[0m in \u001b[0;36m_call\u001b[0;34m(self, inputs)\u001b[0m\n\u001b[1;32m   2673\u001b[0m             \u001b[0mfetched\u001b[0m \u001b[0;34m=\u001b[0m \u001b[0mself\u001b[0m\u001b[0;34m.\u001b[0m\u001b[0m_callable_fn\u001b[0m\u001b[0;34m(\u001b[0m\u001b[0;34m*\u001b[0m\u001b[0marray_vals\u001b[0m\u001b[0;34m,\u001b[0m \u001b[0mrun_metadata\u001b[0m\u001b[0;34m=\u001b[0m\u001b[0mself\u001b[0m\u001b[0;34m.\u001b[0m\u001b[0mrun_metadata\u001b[0m\u001b[0;34m)\u001b[0m\u001b[0;34m\u001b[0m\u001b[0m\n\u001b[1;32m   2674\u001b[0m         \u001b[0;32melse\u001b[0m\u001b[0;34m:\u001b[0m\u001b[0;34m\u001b[0m\u001b[0m\n\u001b[0;32m-> 2675\u001b[0;31m             \u001b[0mfetched\u001b[0m \u001b[0;34m=\u001b[0m \u001b[0mself\u001b[0m\u001b[0;34m.\u001b[0m\u001b[0m_callable_fn\u001b[0m\u001b[0;34m(\u001b[0m\u001b[0;34m*\u001b[0m\u001b[0marray_vals\u001b[0m\u001b[0;34m)\u001b[0m\u001b[0;34m\u001b[0m\u001b[0m\n\u001b[0m\u001b[1;32m   2676\u001b[0m         \u001b[0;32mreturn\u001b[0m \u001b[0mfetched\u001b[0m\u001b[0;34m[\u001b[0m\u001b[0;34m:\u001b[0m\u001b[0mlen\u001b[0m\u001b[0;34m(\u001b[0m\u001b[0mself\u001b[0m\u001b[0;34m.\u001b[0m\u001b[0moutputs\u001b[0m\u001b[0;34m)\u001b[0m\u001b[0;34m]\u001b[0m\u001b[0;34m\u001b[0m\u001b[0m\n\u001b[1;32m   2677\u001b[0m \u001b[0;34m\u001b[0m\u001b[0m\n",
      "\u001b[0;32m/usr/local/lib/python3.6/site-packages/tensorflow/python/client/session.py\u001b[0m in \u001b[0;36m__call__\u001b[0;34m(self, *args, **kwargs)\u001b[0m\n\u001b[1;32m   1456\u001b[0m         ret = tf_session.TF_SessionRunCallable(self._session._session,\n\u001b[1;32m   1457\u001b[0m                                                \u001b[0mself\u001b[0m\u001b[0;34m.\u001b[0m\u001b[0m_handle\u001b[0m\u001b[0;34m,\u001b[0m \u001b[0margs\u001b[0m\u001b[0;34m,\u001b[0m\u001b[0;34m\u001b[0m\u001b[0m\n\u001b[0;32m-> 1458\u001b[0;31m                                                run_metadata_ptr)\n\u001b[0m\u001b[1;32m   1459\u001b[0m         \u001b[0;32mif\u001b[0m \u001b[0mrun_metadata\u001b[0m\u001b[0;34m:\u001b[0m\u001b[0;34m\u001b[0m\u001b[0m\n\u001b[1;32m   1460\u001b[0m           \u001b[0mproto_data\u001b[0m \u001b[0;34m=\u001b[0m \u001b[0mtf_session\u001b[0m\u001b[0;34m.\u001b[0m\u001b[0mTF_GetBuffer\u001b[0m\u001b[0;34m(\u001b[0m\u001b[0mrun_metadata_ptr\u001b[0m\u001b[0;34m)\u001b[0m\u001b[0;34m\u001b[0m\u001b[0m\n",
      "\u001b[0;31mKeyboardInterrupt\u001b[0m: "
     ]
    }
   ],
   "source": [
    "from keras.callbacks import LambdaCallback\n",
    "\n",
    "\"\"\"\n",
    "Notice how the metrics / generated text evolve after each epoch\n",
    "\"\"\"\n",
    "FNN_model.compile(loss='categorical_crossentropy', \n",
    "              optimizer='adam', \n",
    "              metrics=['accuracy', 'top_k_categorical_accuracy'])\n",
    "\n",
    "batch_size = 512\n",
    "steps_per_epoch = sum([len(s) + 1 for s in headlines_train]) // batch_size + 1\n",
    "FNN_model.fit_generator(gen_sample_FNN(headlines_train, batch_size=batch_size), \n",
    "                        epochs = 10, steps_per_epoch=steps_per_epoch,\n",
    "                        callbacks=[LambdaCallback(on_epoch_end=on_epoch_end_FNN)])"
   ]
  },
  {
   "cell_type": "markdown",
   "metadata": {},
   "source": [
    "# Word-based RNN Language Model"
   ]
  },
  {
   "cell_type": "markdown",
   "metadata": {},
   "source": [
    "## Build LSTM model"
   ]
  },
  {
   "cell_type": "code",
   "execution_count": 16,
   "metadata": {
    "ExecuteTime": {
     "end_time": "2020-03-22T20:41:24.046904Z",
     "start_time": "2020-03-22T20:41:22.861780Z"
    }
   },
   "outputs": [
    {
     "name": "stdout",
     "output_type": "stream",
     "text": [
      "_________________________________________________________________\n",
      "Layer (type)                 Output Shape              Param #   \n",
      "=================================================================\n",
      "lstm_1 (LSTM)                (None, 15, 128)           219648    \n",
      "_________________________________________________________________\n",
      "time_distributed_1 (TimeDist (None, 15, 19366)         2498214   \n",
      "=================================================================\n",
      "Total params: 2,717,862\n",
      "Trainable params: 2,717,862\n",
      "Non-trainable params: 0\n",
      "_________________________________________________________________\n"
     ]
    },
    {
     "data": {
      "image/png": "[encoded data removed]",
      "text/plain": [
       "<IPython.core.display.Image object>"
      ]
     },
     "execution_count": 16,
     "metadata": {},
     "output_type": "execute_result"
    }
   ],
   "source": [
    "from keras.layers import Dense, LSTM, Activation, TimeDistributed\n",
    "\n",
    "# For simplicity, we use the embedding of words to feed the model, therefore\n",
    "# no need to add a Embedding layer in the begining. But for a possibly better performance\n",
    "# you can add a embedding layer, even better if you use the glove embedding matrix as the\n",
    "# initial value for the embedding layer\n",
    "# This is useful also because we have filled the embedding with random values for those missing\n",
    "# vocabularies, allowing the embedding matrix to relax during training will improve the performance \n",
    "# for these words as well. But be prepared that this would slow down the training\n",
    "\n",
    "# Unfortunately Keras does not have an easy way to support dynamic length of input for RNN model.\n",
    "# So we use the sent_len to truncate all the sentences.\n",
    "batch_size = 10\n",
    "RNN_train_model = Sequential()\n",
    "RNN_train_model.add(\n",
    "    LSTM(128, input_shape=(sent_len, glove.shape[1]), return_sequences=True)\n",
    "    )\n",
    "RNN_train_model.add(TimeDistributed(Dense(len(vocab), activation='softmax')))\n",
    "RNN_train_model.summary()\n",
    "show_keras_model(RNN_train_model)"
   ]
  },
  {
   "cell_type": "code",
   "execution_count": 17,
   "metadata": {
    "ExecuteTime": {
     "end_time": "2020-03-22T20:41:25.068865Z",
     "start_time": "2020-03-22T20:41:24.051334Z"
    }
   },
   "outputs": [
    {
     "name": "stdout",
     "output_type": "stream",
     "text": [
      "_________________________________________________________________\n",
      "Layer (type)                 Output Shape              Param #   \n",
      "=================================================================\n",
      "lstm_2 (LSTM)                (1, 1, 128)               219648    \n",
      "_________________________________________________________________\n",
      "time_distributed_2 (TimeDist (1, 1, 19366)             2498214   \n",
      "=================================================================\n",
      "Total params: 2,717,862\n",
      "Trainable params: 2,717,862\n",
      "Non-trainable params: 0\n",
      "_________________________________________________________________\n"
     ]
    },
    {
     "data": {
      "image/png": "[encoded data removed]",
      "text/plain": [
       "<IPython.core.display.Image object>"
      ]
     },
     "execution_count": 17,
     "metadata": {},
     "output_type": "execute_result"
    }
   ],
   "source": [
    "from keras.layers import Dense, LSTM, Activation, TimeDistributed\n",
    "\n",
    "\"\"\"\n",
    "# It's tricky to explain why we need the RNN_pred_model. \n",
    "# The RNN_train_model.predict requires a fix length of input (sent_len in our case).\n",
    "# This is not convenient for us because we need to generate the next text one by one.\n",
    "# The trick we play here is to create a shadow model having only 1 time step. We will\n",
    "# copy the parameter of the RNN_train_model to this model once it's trained.\n",
    "# Check generate_text_RNN function to understand details, and there is some discussion \n",
    "# here: \"https://github.com/keras-team/keras/issues/8771\"\n",
    "\"\"\"\n",
    "\n",
    "RNN_pred_model = Sequential()\n",
    "RNN_pred_model.add(\n",
    "    LSTM(128, batch_input_shape=(1, 1, glove.shape[1]), return_sequences=True, stateful = True)\n",
    "    )\n",
    "RNN_pred_model.add(TimeDistributed(Dense(len(vocab), activation='softmax')))\n",
    "RNN_pred_model.summary()\n",
    "show_keras_model(RNN_pred_model)"
   ]
  },
  {
   "cell_type": "markdown",
   "metadata": {},
   "source": [
    "## Training data generator"
   ]
  },
  {
   "cell_type": "code",
   "execution_count": 18,
   "metadata": {
    "ExecuteTime": {
     "end_time": "2020-03-22T20:41:25.246426Z",
     "start_time": "2020-03-22T20:41:25.074446Z"
    }
   },
   "outputs": [],
   "source": [
    "from keras.preprocessing.sequence import pad_sequences\n",
    "\n",
    "def gen_sample_RNN(data, batch_size=100, one_hot=True):\n",
    "    \"\"\"\n",
    "    The input is the same to the FNN model, but the output training data is different.\n",
    "    \n",
    "    inputs:\n",
    "        data: list of list of string\n",
    "        batch_size: int\n",
    "        one_hot: boolean\n",
    "        \n",
    "    output:\n",
    "        X: np.array(batch_size, sent_len, embedding_dim)\n",
    "        Y: np.array(batch_size, sent_len, ) or np.array(batch_size, sent_len, vocab_size)\n",
    "    \"\"\"\n",
    "    if batch_size == -1:\n",
    "        batch_size = len(data)\n",
    "        \n",
    "    while True:\n",
    "        # Shuffle the data so data order is different for different epochs\n",
    "        random.shuffle(data)\n",
    "\n",
    "        X, Y = [], []\n",
    "        for s in data:\n",
    "            X.append([to_label(START)] + [to_label(t) for t in s])\n",
    "            Y.append([to_label(t) for t in s] + [to_label(END)])\n",
    "            \n",
    "            if len(X) >= batch_size:   \n",
    "                X = pad_sequences(sequences=X, maxlen=sent_len, padding='post', value=to_label(END))\n",
    "                Y = pad_sequences(sequences=Y, maxlen=sent_len, padding='post', value=to_label(END))\n",
    "          \n",
    "                if one_hot: Y = to_categorical(Y, num_classes=len(re_vocab))\n",
    "                \n",
    "                yield to_embedding(X), Y\n",
    "                \n",
    "                X, Y = [], []"
   ]
  },
  {
   "cell_type": "markdown",
   "metadata": {},
   "source": [
    "## Generate text"
   ]
  },
  {
   "cell_type": "code",
   "execution_count": 19,
   "metadata": {
    "ExecuteTime": {
     "end_time": "2020-03-22T20:41:25.397070Z",
     "start_time": "2020-03-22T20:41:25.257325Z"
    }
   },
   "outputs": [],
   "source": [
    "def generate_text_RNN(model, max_len=sent_len-1, seed=None):\n",
    "    \"\"\"\n",
    "    Use the RNN_pred_model to generate text. Notice how we use the stateful model to generate\n",
    "    the next word one by one. Make sure you fully understand each line of this code. \n",
    "    \"\"\"\n",
    "    if seed is None:\n",
    "        seed = START\n",
    "        result = []\n",
    "    else:\n",
    "        result = [seed]\n",
    "    \n",
    "    model.reset_states()\n",
    "    \n",
    "    for i in range(max_len):\n",
    "        X = to_embedding([[to_label(seed)]])\n",
    "        idx = sample_with_weight(model.predict(X)[0][0])\n",
    "        \n",
    "        if vocab[idx] == END: break\n",
    "            \n",
    "        seed = vocab[idx]\n",
    "        result.append(seed)\n",
    "        \n",
    "    return ' '.join(result)"
   ]
  },
  {
   "cell_type": "code",
   "execution_count": 20,
   "metadata": {
    "ExecuteTime": {
     "end_time": "2020-03-22T20:41:25.670440Z",
     "start_time": "2020-03-22T20:41:25.400064Z"
    }
   },
   "outputs": [
    {
     "data": {
      "text/plain": [
       "'china madoff nasty dividend immune playboy supercomputer monaro battens davydenko outer resourced rev shower who'"
      ]
     },
     "execution_count": 20,
     "metadata": {},
     "output_type": "execute_result"
    }
   ],
   "source": [
    "generate_text_RNN(RNN_pred_model, seed=\"china\")"
   ]
  },
  {
   "cell_type": "markdown",
   "metadata": {
    "ExecuteTime": {
     "end_time": "2020-03-22T00:48:16.334866Z",
     "start_time": "2020-03-22T00:48:16.220610Z"
    }
   },
   "source": [
    "## Calculate Perplexity"
   ]
  },
  {
   "cell_type": "code",
   "execution_count": 21,
   "metadata": {
    "ExecuteTime": {
     "end_time": "2020-03-22T20:41:25.835637Z",
     "start_time": "2020-03-22T20:41:25.676315Z"
    }
   },
   "outputs": [],
   "source": [
    "def calculate_perplexity_RNN(model, X, y):\n",
    "    \"\"\"\n",
    "    For a given FNN model, and test data, calcualte the perplexity.\n",
    "    The definition of perplexity is:\n",
    "    \n",
    "    perplexity = exp(- \\sum_i log(P_i) / N)\n",
    "    \n",
    "    inputs:\n",
    "        model: FNN model\n",
    "        X: np.array(n_sample, sent_len, embedding_dim)\n",
    "        y: np.array(n_sample, sent_len), int labels\n",
    "    \"\"\"\n",
    "    prob = model.predict(X)\n",
    "    M = 0\n",
    "    P = 0\n",
    "    N, sent_len = y.shape\n",
    "    for s in range(N):\n",
    "        for l in range(sent_len):\n",
    "            if y[s,l] == re_vocab[END]:\n",
    "                break\n",
    "            P += np.log(prob[s,l,y[s,l]])\n",
    "            M += 1\n",
    "    \n",
    "    perplexity = np.exp(-P/M)\n",
    "    \"\"\"\n",
    "    \n",
    "    hits:\n",
    "        1. First make the prod prediction using the RNN_train_model\n",
    "        2. The probability at the position of y is what you look for\n",
    "        3. All sentences have fixed length, meaning a sentence can have multiple padding END at the end\n",
    "           of a sentence. Consider stop counting the perplexity once you hit the first END, otherwise\n",
    "           your perplexity will seem too good.\n",
    "    \n",
    "    When you have too much UNK word, you will find the perplexity to be lower, but it doesn't \n",
    "    really mean your model is better, can you think why?\n",
    "    \"\"\"\n",
    "    \n",
    "    return perplexity"
   ]
  },
  {
   "cell_type": "code",
   "execution_count": 22,
   "metadata": {
    "ExecuteTime": {
     "end_time": "2020-03-22T20:41:26.330668Z",
     "start_time": "2020-03-22T20:41:25.849151Z"
    }
   },
   "outputs": [
    {
     "data": {
      "text/plain": [
       "19389.0952061517"
      ]
     },
     "execution_count": 22,
     "metadata": {},
     "output_type": "execute_result"
    }
   ],
   "source": [
    "# Let check the perplexity for the untrained model\n",
    "# Is your value close to the number of vocabulary? \n",
    "# Is this a coincidence?\n",
    "X_dev_RNN, y_dev_RNN = next(gen_sample_RNN(headlines_dev, batch_size=-1, one_hot=False))\n",
    "\n",
    "calculate_perplexity_RNN(RNN_train_model, X_dev_RNN, y_dev_RNN)"
   ]
  },
  {
   "cell_type": "markdown",
   "metadata": {},
   "source": [
    "## Train model"
   ]
  },
  {
   "cell_type": "code",
   "execution_count": 23,
   "metadata": {
    "ExecuteTime": {
     "end_time": "2020-03-22T20:41:26.481542Z",
     "start_time": "2020-03-22T20:41:26.334649Z"
    }
   },
   "outputs": [],
   "source": [
    "\"\"\"\n",
    "Let's use the function defined above to report the model performance\n",
    "after each epoch\n",
    "\"\"\"\n",
    "def on_epoch_end_RNN(epoch, logs):\n",
    "    RNN_pred_model.set_weights(RNN_train_model.get_weights())\n",
    "    print('----- Generating text after Epoch: %d' % epoch)\n",
    "    for i in range(3):\n",
    "        print(generate_text_RNN(RNN_pred_model))\n",
    "    print('Current perplexity on dev data: ', \n",
    "          calculate_perplexity_RNN(RNN_train_model, X_dev_RNN, y_dev_RNN), '\\n')"
   ]
  },
  {
   "cell_type": "code",
   "execution_count": 24,
   "metadata": {
    "ExecuteTime": {
     "end_time": "2020-03-22T20:43:25.495611Z",
     "start_time": "2020-03-22T20:42:34.521146Z"
    },
    "scrolled": true
   },
   "outputs": [
    {
     "name": "stdout",
     "output_type": "stream",
     "text": [
      "Epoch 1/10\n",
      "20000/20000 [==============================] - 2069s 103ms/step - loss: 3.1110\n",
      "----- Generating text after Epoch: 0\n",
      "fairfax pulls aim to 100 million from f\n",
      "adams west farmers association council questions\n",
      "q history peninsula for historic\n",
      "Current perplexity on dev data:  839.0277186026706 \n",
      "\n",
      "Epoch 2/10\n",
      "20000/20000 [==============================] - 2270s 114ms/step - loss: 2.8319\n",
      "----- Generating text after Epoch: 1\n",
      "hospital patients held to save survey\n",
      "abc sport\n",
      "cricket x palau mottram to custody over game ticket medal\n",
      "Current perplexity on dev data:  727.8745405344695 \n",
      "\n",
      "Epoch 3/10\n",
      "20000/20000 [==============================] - 2911s 146ms/step - loss: 2.7508\n",
      "----- Generating text after Epoch: 2\n",
      "rolf harris named worlds most british mcdonalds show\n",
      "suspects return home may wounds\n",
      "philip devastated by wall street\n",
      "Current perplexity on dev data:  725.0630279119446 \n",
      "\n",
      "Epoch 4/10\n",
      "20000/20000 [==============================] - 3231s 162ms/step - loss: 2.7050\n",
      "----- Generating text after Epoch: 3\n",
      "tenders search for pool tasmanian patients eased\n",
      "beat books with handed over laws\n",
      "dispute over sa bikie links with city mother\n",
      "Current perplexity on dev data:  730.8918182273915 \n",
      "\n",
      "Epoch 5/10\n",
      "20000/20000 [==============================] - 2476s 124ms/step - loss: 2.6775\n",
      "----- Generating text after Epoch: 4\n",
      "simplot stays the far\n",
      "conroy leads landmark job\n",
      "bail at overboard home from exhibition thief\n",
      "Current perplexity on dev data:  741.7261396177381 \n",
      "\n",
      "Epoch 6/10\n",
      "20000/20000 [==============================] - 1940s 97ms/step - loss: 2.6604\n",
      "----- Generating text after Epoch: 5\n",
      "group urges probe into northern listed\n",
      "river water buyback and fundraising says leading freight\n",
      "taskforce delivers road spirit message\n",
      "Current perplexity on dev data:  755.8500756955898 \n",
      "\n",
      "Epoch 7/10\n",
      "20000/20000 [==============================] - 1906s 95ms/step - loss: 2.6473\n",
      "----- Generating text after Epoch: 6\n",
      "water corp profits rise\n",
      "all stars win power plant release\n",
      "investigation puts bushfire planners told\n",
      "Current perplexity on dev data:  753.0262128720698 \n",
      "\n",
      "Epoch 8/10\n",
      "20000/20000 [==============================] - 1952s 98ms/step - loss: 2.6372\n",
      "----- Generating text after Epoch: 7\n",
      "nasa chief defends issues of canberra unrest\n",
      "passengers indemnity safety breaches\n",
      "gillard accuses nationals vote for federal budget debate\n",
      "Current perplexity on dev data:  753.738548188292 \n",
      "\n",
      "Epoch 9/10\n",
      "20000/20000 [==============================] - 1913s 96ms/step - loss: 2.6284\n",
      "----- Generating text after Epoch: 8\n",
      "childs people need to protect youth information\n",
      "libya groups unhappy as political comeback\n",
      "mp backs coal industry predicts consumer news looms\n",
      "Current perplexity on dev data:  762.0487302550855 \n",
      "\n",
      "Epoch 10/10\n",
      "20000/20000 [==============================] - 1933s 97ms/step - loss: 2.6210\n",
      "----- Generating text after Epoch: 9\n",
      "priest stock poisoning of missing mans body\n",
      "consumers to be about wind farm in turn a chronic\n",
      "amazon board member fails to widen galaxy deaths\n",
      "Current perplexity on dev data:  753.098036491844 \n",
      "\n"
     ]
    },
    {
     "data": {
      "text/plain": [
       "<keras.callbacks.History at 0x13bf43be0>"
      ]
     },
     "execution_count": 24,
     "metadata": {},
     "output_type": "execute_result"
    }
   ],
   "source": [
    "\"\"\"\n",
    "Notice how the metrics / generated text evolve after each epoch\n",
    "\"\"\"\n",
    "batch_size = 10\n",
    "num_batches = len(headlines_train) // batch_size \n",
    "RNN_train_model.compile(loss='categorical_crossentropy', optimizer='adam')\n",
    "RNN_train_model.fit_generator(gen_sample_RNN(headlines_train, batch_size), num_batches, 10,\n",
    "          callbacks=[LambdaCallback(on_epoch_end=on_epoch_end_RNN)])"
   ]
  },
  {
   "cell_type": "code",
   "execution_count": null,
   "metadata": {},
   "outputs": [],
   "source": []
  }
 ],
 "metadata": {
  "kernelspec": {
   "display_name": "Python 3",
   "language": "python",
   "name": "python3"
  },
  "language_info": {
   "codemirror_mode": {
    "name": "ipython",
    "version": 3
   },
   "file_extension": ".py",
   "mimetype": "text/x-python",
   "name": "python",
   "nbconvert_exporter": "python",
   "pygments_lexer": "ipython3",
   "version": "3.7.3"
  },
  "toc": {
   "base_numbering": 1,
   "nav_menu": {},
   "number_sections": false,
   "sideBar": true,
   "skip_h1_title": false,
   "title_cell": "Table of Contents",
   "title_sidebar": "Contents",
   "toc_cell": false,
   "toc_position": {
    "height": "calc(100% - 180px)",
    "left": "10px",
    "top": "150px",
    "width": "288px"
   },
   "toc_section_display": true,
   "toc_window_display": true
  }
 },
 "nbformat": 4,
 "nbformat_minor": 2
}
