{
 "cells": [
  {
   "cell_type": "markdown",
   "metadata": {
    "ExecuteTime": {
     "end_time": "2020-02-23T18:06:03.987080Z",
     "start_time": "2020-02-23T18:06:03.889691Z"
    }
   },
   "source": [
    "<h1><center>HW1 Movie Review Sentiment Analysis</center></h1>\n",
    "<h2><center>Due: March 2020 6th, 23:59</center></h2>\n",
    "\n",
    "In this homework you will create different models to generate the positive/negative sentiment\n",
    "classification of movie reviews.\n",
    "\n",
    "This homework should be done individually without cooperation with others.\n",
    "\n",
    "You are given the following files:\n",
    "- `hw01.ipynb`: Notebook file with starter code\n",
    "- `train.txt`: Training set to train your model\n",
    "- `test.txt`: Test set to report your model’s performance\n",
    "- `sample_prediction.csv`: Sample file your prediction result should look like\n",
    "- `utils/`: folder containing all utility code for the series of homeworks\n",
    "\n",
    "Remember to leverage code in `utils/`, so you don't have to build everything from\n",
    "Scratch.\n",
    "- `load_data(filename)`: load the input data and return sklearn.Bunch object. For basic\n",
    "usage of Bunch object, please refer to sklearn documentation.\n",
    "- `save_prediction(arr, filename)`: save your prediction into the format required by the\n",
    "course\n",
    "\n",
    "<h3> 0. Install Anaconda </h3>\n",
    "\n",
    "If you do not yet have Python and Jupyter Notebook on your laptop, use this link\n",
    "(https://www.anaconda.com/) to install anaconda. Anaconda is a suite that provides one\n",
    "stop solution for all you need for Python development environment. This site contains\n",
    "installation document for Windows, Mac, and Linux, choose the one that suits your operating\n",
    "system.\n",
    "\n",
    "*Tips: You may want to consider installing Jupyter Extensions (link: https://github.com/ipython-contrib/jupyter_contrib_nbextensions), and turn on extensions such as `ExcuteTime` and \n",
    "`Table of Contents(2)`. You may find them very helpful to assist you finishing homework. However, this \n",
    "is definitely not a necessary requirement.*\n",
    "\n",
    "<h3> 1. Feature Dictionary Vectorization </h3> \n",
    "\n",
    "A quite unique step for NLP is to engineer the raw text input into numerical features. You will\n",
    "eventually implement several featurizers, just like `dummy_featurize`, that distinguish your\n",
    "models with others. However, we are not there yet. For convenience we allow you to\n",
    "represent the features using a dictionary, look at the `dummy_featurize` code. So each data\n",
    "point can be translated into a dictionary. However later we have to translate this list of\n",
    "dictionaries into a homogeneous data structure. Therefore, you need to first implement the\n",
    "pipeline method in the `SentimetnClassifier` class. Look into the code comment for more\n",
    "details. To ensure your implementation works, we also provided some test code in the cell\n",
    "below.\n",
    "\n",
    "<h3> 2. Better featurizers </h3>\n",
    "\n",
    "\n",
    "Have you finished the first step, you can run the model using the provided featurizer. See\n",
    "the performance is nearly as good as a donkey? No surprise! The `dummy_featurize` should\n",
    "have been named `really_dummy_featurize`. Now it is your turn to implement better\n",
    "featurizers. For this homework, you need to implement at least 3 distinguishable featurizer.\n",
    "Describe your features briefly in the write-up and include the accuracy of the model. No idea\n",
    "at all? Look at your lecture notes for inspiration. Still no clue? Why not start with Bag of\n",
    "words?\n",
    "\n",
    "*Note: Model performance is important but it’s not the only thing we care about, your work will\n",
    "also be rewarded by your creativity.*\n",
    "\n",
    "<h3> 3. Optional: Try different learning methods </h3> \n",
    "\n",
    "All the work you have done so far are related to feature engineering, and the featurized data\n",
    "is trained using Logistic Regression. Try to use different learning methods to train the model\n",
    "and see if you achieve any difference in the performance. Discuss your findings in the\n",
    "write-up.\n",
    "\n",
    "<h3> 4. Deliverables (zip them all) </h3>\n",
    "\n",
    "- pdf version of your final notebook\n",
    "- Use the best model you trained, generate the prediction for test.txt, name the\n",
    "output file prediction.csv (Be careful: the best model in your training set might not\n",
    "be the best model for the test set).\n",
    "- HW1_writeup.pdf: summarize the method you used and report their performance.\n",
    "If you worked on the optional task, add the discussion. Add a short essay\n",
    "discussing the biggest challenges you encounter during this assignment and\n",
    "what you have learnt.\n",
    "\n",
    "(**You are encouraged to add the writeup doc into your notebook\n",
    "using markdown/html langauge, just like how this notes is prepared**)\n"
   ]
  },
  {
   "cell_type": "markdown",
   "metadata": {},
   "source": [
    "<h2><center> HW1 Write up </center></h2>\n",
    "<h3>Data Pre-processing:</h3>\n",
    "\n",
    "  It is good to check/see that both the training and dev dataset has balanced categories.\n",
    "  \n",
    "  I used nltk tokenizer to tokenize the texts into list of tokens, and use WordNetLemmatizer to normalize the text.\n",
    "  \n",
    "  I implemented the vectorizer algorithm from scratch, however, it turns out to be slower\n",
    "  \n",
    "  Using the sklearn learn Pipeline and build-in method will speed up.\n",
    "\n",
    "<h3>Feature Engineering:</h3>\n",
    "   \n",
    "   I tried to use the following features:\n",
    "   \n",
    "   - bag of words(unigram) : around 7200 (with at least 10 occurance)\n",
    "   \n",
    "   - bigram :around 12300 (with at least 10 occurance)\n",
    "   \n",
    "   - some handcrafted features like number of unique words,number of punctions, etc., I also tried to use the nltk tagging to get the number of nouns, adjectives, and verbs : about 8\n",
    "   \n",
    "   - tf-idf (on the unigram or on the bigram), I implement the equation by hand:\n",
    "   \n",
    "   The training set has sparsity(number of non-zero fraction) = 0.9%, so we need to sparse format to store it for efficiency.\n",
    "   \n",
    "   It turns out that the handcrafted features and only bigram without tf-idf does not help to improve the accuracy of the model.\n",
    "      \n",
    "<h3>Learning method:</h3> \n",
    "    \n",
    "   I used the following methods:\n",
    "   \n",
    "   - Logistic regression with L2 regulazation (default)\n",
    "   \n",
    "   - SVM\n",
    "   \n",
    "   - RandomForestClassfier\n",
    "   \n",
    "   - XGBoost\n",
    "   \n",
    "   The Logistric regression is the \"baseline\" and actually it reaches good performance on training/dev set.\n",
    "   \n",
    "   RandomForestClassfier is easy to overfit, with large accuracy on training set but poor performance on dev set, and XGBoost encounters the same problem, even with a reasonable number of trees and max depth of the trees.\n",
    "   \n",
    "   SVM gives a good estimation on both training and dev set. However, they did not surpass the score of baseline model for the dev set.\n",
    "      \n",
    "   The caveat for all the models is that they all need finer tuning.\n",
    "   \n",
    "   To reach better accuracy, we might need more training data, or use other feature engineer techiques.\n",
    "\n",
    "<h3>Result</h3>\n",
    "\n",
    "My final feature selection with unigram and tf-idf applied improves the dev accuracy, and the prediction power mainly comes from unigram.\n",
    "\n",
    "Please see the second-to-last Cell to see the comparasions.\n",
    "\n",
    "It agrees with the paper(2015)\n",
    "\n",
    "https://www.sciencedirect.com/science/article/pii/S1877050915001520\n",
    "\n",
    "which says \"We found that unigram is the best method to extract sentiment from the review.\" And they got best accuracy around 82% - 84%. "
   ]
  },
  {
   "cell_type": "markdown",
   "metadata": {},
   "source": [
    "# =============== Coding Starts Here ==================="
   ]
  },
  {
   "cell_type": "code",
   "execution_count": 2,
   "metadata": {
    "ExecuteTime": {
     "end_time": "2020-02-23T20:52:00.680659Z",
     "start_time": "2020-02-23T20:51:58.055407Z"
    }
   },
   "outputs": [],
   "source": [
    "%load_ext autoreload\n",
    "%autoreload 2\n",
    "%matplotlib inline\n",
    "import os\n",
    "import sys\n",
    "import pandas as pd\n",
    "import numpy as np\n",
    "\n",
    "# add utils folder to path\n",
    "p = os.path.dirname(os.getcwd())\n",
    "if p not in sys.path:\n",
    "    sys.path = [p] + sys.path\n",
    "    \n",
    "from utils.hw1 import load_data, save_prediction"
   ]
  },
  {
   "cell_type": "markdown",
   "metadata": {},
   "source": [
    "## Featurizer"
   ]
  },
  {
   "cell_type": "code",
   "execution_count": 3,
   "metadata": {
    "ExecuteTime": {
     "end_time": "2020-02-23T20:55:11.104653Z",
     "start_time": "2020-02-23T20:55:11.051932Z"
    }
   },
   "outputs": [],
   "source": [
    "\"\"\"\n",
    "!! Do not modify !!\n",
    "\"\"\"\n",
    "def dumb_featurize(text):\n",
    "    feats = {}\n",
    "    words = text.split(\" \")\n",
    "\n",
    "    for word in words:\n",
    "        if word == \"love\" or word == \"like\" or word == \"best\":\n",
    "            feats[\"contains_positive_word\"] = 1\n",
    "        if word == \"hate\" or word == \"dislike\" or word == \"worst\" or word == \"awful\":\n",
    "            feats[\"contains_negative_word\"] = 1\n",
    "\n",
    "    return feats"
   ]
  },
  {
   "cell_type": "code",
   "execution_count": 4,
   "metadata": {},
   "outputs": [],
   "source": [
    "from nltk.tokenize import word_tokenize\n",
    "from nltk.corpus import stopwords\n",
    "from nltk.stem.wordnet import WordNetLemmatizer\n",
    "from nltk.tag import pos_tag\n",
    "from nltk.tag.perceptron import PerceptronTagger\n",
    "import string\n",
    "\n",
    "tagger = PerceptronTagger()\n",
    "\n",
    "def better_featurize(text):\n",
    "    feats = {}\n",
    "    lemmatizer = WordNetLemmatizer()\n",
    "    words = word_tokenize(text.lower())\n",
    "    words = [lemmatizer.lemmatize(word) for word in words]\n",
    "\n",
    "    stop_words = stopwords.words('english')\n",
    "    \n",
    "    def n_gram(n):        \n",
    "        #n - gram\n",
    "        ngrams = []\n",
    "        for i in range(len(words)-n+1):\n",
    "            g = '_'.join(words[i:i+n])\n",
    "            ngrams.append(g)\n",
    "        return ngrams\n",
    "    \n",
    "    feats = Counter(words) + Counter(n_gram(2)) # merge uni-gram and bigram\n",
    "    #feats = Counter(words)\n",
    "    #feats = {k:v for k,v in feats.items() if k not in stop_words and k not in string.punctuation}\n",
    "    #feats = {k:v/len(words) for k,v in feats.items()}\n",
    "    #feats['num_unique_words'] = len(set(words))\n",
    "    #feats['num_chars'] = len(text)\n",
    "    #feats['num_stopwords'] =  len([word for word in words if word in stopwords.words('english')])\n",
    "    #feats['num_punctions'] = len([word for word in words if word in string.punctuation])\n",
    "    #feats['mean_word_len'] = np.mean([len(word) for word in words])\n",
    "    #pos_list = pos_tag(words)\n",
    "    #pos_list = tagger.tag(words)\n",
    "    #feats['num_nouns'] = len([w for w in pos_list if w[1] in ('NN','NNP','NNPS','NNS')])\n",
    "    #feats['num_adjs'] = len([w for w in pos_list if w[1] in ('JJ','JJR','JJS')])\n",
    "    #feats['num_verbs'] = len([w for w in pos_list if w[1] in ('VB','VBD','VBG','VBN','VBP','VBZ')])\n",
    "    return feats"
   ]
  },
  {
   "cell_type": "markdown",
   "metadata": {},
   "source": [
    "## Model Class"
   ]
  },
  {
   "cell_type": "code",
   "execution_count": 5,
   "metadata": {
    "ExecuteTime": {
     "end_time": "2020-02-23T20:55:14.685120Z",
     "start_time": "2020-02-23T20:55:14.618559Z"
    }
   },
   "outputs": [],
   "source": [
    "from collections import Counter\n",
    "from scipy.sparse import dok_matrix\n",
    "from numpy import count_nonzero\n",
    "from math import log\n",
    "from sklearn.pipeline import Pipeline\n",
    "from sklearn.feature_extraction.text import CountVectorizer, TfidfVectorizer, TfidfTransformer\n",
    "from sklearn.feature_extraction import DictVectorizer\n",
    "from sklearn.linear_model import LogisticRegression\n",
    "from sklearn.ensemble import RandomForestClassifier\n",
    "from sklearn.ensemble import GradientBoostingClassifier\n",
    "from sklearn.svm import LinearSVC\n",
    "from sklearn.naive_bayes import MultinomialNB\n",
    "from sklearn.preprocessing import normalize\n",
    "import xgboost as xgb\n",
    "\n",
    "\n",
    "class SentimentClassifier:\n",
    "    def __init__(self, feature_method=dumb_featurize, min_feature_ct=1, L2_reg=1.0):\n",
    "        \"\"\"\n",
    "        :param feature_method: featurize function\n",
    "        :param min_feature_count: int, ignore the features that appear less than this number to avoid overfitting\n",
    "        \"\"\"\n",
    "        self.feature_vocab = {}\n",
    "        self.feature_method = feature_method\n",
    "        self.min_feature_ct = min_feature_ct\n",
    "        self.L2_reg = L2_reg\n",
    "\n",
    "    def featurize(self, X):\n",
    "        \"\"\"\n",
    "        # Featurize input text\n",
    "\n",
    "        :param X: list of texts\n",
    "        :return: list of featurized vectors\n",
    "        \"\"\"\n",
    "        featurized_data = []\n",
    "        for text in X:\n",
    "            feats = self.feature_method(text)\n",
    "            featurized_data.append(feats)\n",
    "        return featurized_data\n",
    "\n",
    "    def pipeline(self, X, training=False):\n",
    "        \"\"\"\n",
    "        Data processing pipeline to translate raw data input into sparse vectors\n",
    "        :param X: featurized input\n",
    "        :return X2: 2d sparse vectors\n",
    "        \n",
    "        Implement the pipeline method that translate the dictionary like feature vectors into \n",
    "        homogeneous numerical vectors, for example:\n",
    "        [{\"fea1\": 1, \"fea2\": 2}, \n",
    "         {\"fea2\": 2, \"fea3\": 3}] \n",
    "         --> \n",
    "         [[1, 2, 0], \n",
    "          [0, 2, 3]]\n",
    "          \n",
    "        Hints:\n",
    "        1. How can you know the length of the feature vector?\n",
    "        2. When should you use sparse matrix?\n",
    "        3. Have you treated non-seen features properly?\n",
    "        4. Should you treat training and testing data differently?\n",
    "        \"\"\"\n",
    "        # Have to build feature_vocab during training\n",
    "        if training:\n",
    "            print(\"Now training...\")\n",
    "            # the commented out part is to implement the algorithm from scratch, however, it turns out to be slower\n",
    "            # Using the scikit learn Pipeline and build-in method will speed up\n",
    "            ''' \n",
    "            self.idf_ = {} # count the document which have the features\n",
    "            for feature_dic in X:\n",
    "                for feature, value in feature_dic.items():\n",
    "                    self.feature_vocab[feature] = self.feature_vocab.get(feature, 0) + value\n",
    "                    self.idf_[feature] = self.idf_.get(feature, 0) + 1\n",
    "            index = 0\n",
    "            \n",
    "            # sort the features by the occurance\n",
    "            for k, v in sorted(self.feature_vocab.items(), key=lambda item: item[1], reverse=True):\n",
    "                if v < self.min_feature_ct:\n",
    "                    del self.feature_vocab[k]\n",
    "                    del self.idf_[k]\n",
    "                else:\n",
    "                    index += 1\n",
    "                    idf = self.idf_[k]\n",
    "                    self.idf_[k] = log((1+len(X))/(1+idf))+1\n",
    "                    self.feature_vocab[k] = index\n",
    "            self.feature_vocab['__UNKNOWN__'] = 0\n",
    "        X2 = []\n",
    "        # Translate raw texts into vectors\n",
    "        for feature_dic in X:\n",
    "            feature_vector = []\n",
    "            for feature in self.feature_vocab.keys():\n",
    "                if '_' in feature: \n",
    "                    feature_vector.append(feature_dic.get(feature, 0))\n",
    "                else: # unigram apply the tf-idf formula\n",
    "                    feature_vector.append(bool(feature_dic.get(feature, 0))*self.idf_.get(feature, 0))\n",
    "\n",
    "            X2.append(feature_vector)\n",
    "            '''    \n",
    "            self.vec = DictVectorizer().fit(X)\n",
    "            X2 = self.vec.transform(X).toarray()\n",
    "            self.feature_sel = np.count_nonzero(X2,axis=0)>=self.min_feature_ct\n",
    "            self.pipe = TfidfTransformer().fit(X2[:,self.feature_sel])\n",
    "        #X2 = np.array(X2)\n",
    "        X2 = self.vec.transform(X).toarray()\n",
    "        X2 = X2[:,self.feature_sel]\n",
    "        X2 = self.pipe.transform(X2).toarray()\n",
    "        sparsity = count_nonzero(X2) / float(X2.size)\n",
    "        # for sparse matrix, store them use the sparse format\n",
    "        if (sparsity < 0.02):\n",
    "            X2 = dok_matrix(X2)\n",
    "        #X2 = normalize(X2, axis=1, norm='l1')\n",
    "        return X2\n",
    "\n",
    "    def fit(self, X, y):\n",
    "        X = self.pipeline(self.featurize(X), training=True)\n",
    "        \n",
    "        D, F = X.shape\n",
    "        print(D,F)\n",
    "        self.model = LogisticRegression(C=self.L2_reg)\n",
    "        #self.model = LinearSVC(C=self.L2_reg)\n",
    "        #self.model = RandomForestClassifier(n_estimators=2000,\n",
    "        #                                    max_depth=5)\n",
    "        #self.model = xgb.XGBClassifier(n_estimators = 2500,\n",
    "        #                               random_state = 2009,\n",
    "        #                               max_depth = 5,\n",
    "        #                               learning_rate= 0.05,\n",
    "        #                               colsample_bytree = 0.2,\n",
    "        #                               subsample = 0.8,\n",
    "        #                               min_child_weight = 2.,\n",
    "        #                               n_jobs=4)\n",
    "        self.model.fit(X, y)\n",
    "\n",
    "        return self\n",
    "\n",
    "    def predict(self, X):\n",
    "        X = self.pipeline(self.featurize(X))\n",
    "        return self.model.predict(X)\n",
    "\n",
    "    def score(self, X, y):\n",
    "        X = self.pipeline(self.featurize(X))\n",
    "        return self.model.score(X, y)\n",
    "\n",
    "    # Write learned parameters to file\n",
    "    def save_weights(self, filename='weights.csv'):\n",
    "        weights = [[\"__intercept__\", self.model.intercept_[0]]]\n",
    "        for feat, idx in self.feature_vocab.items():\n",
    "            weights.append([feat, self.model.coef_[0][idx]])\n",
    "        \n",
    "        weights = pd.DataFrame(weights)\n",
    "        weights.to_csv(filename, header=False, index=False)\n",
    "        \n",
    "        return weights"
   ]
  },
  {
   "cell_type": "code",
   "execution_count": 6,
   "metadata": {
    "ExecuteTime": {
     "end_time": "2020-02-23T19:58:51.448435Z",
     "start_time": "2020-02-23T19:58:51.341871Z"
    },
    "scrolled": true
   },
   "outputs": [
    {
     "name": "stdout",
     "output_type": "stream",
     "text": [
      "Now training...\n",
      "Success!!\n"
     ]
    }
   ],
   "source": [
    "\"\"\"\n",
    "Run this to test your model implementation\n",
    "\"\"\"\n",
    "\n",
    "cls = SentimentClassifier()\n",
    "X_train = [{\"fea1\": 1, \"fea2\": 2}, {\"fea2\": 2, \"fea3\": 3}]\n",
    "\n",
    "X = cls.pipeline(X_train, True)\n",
    "assert X.shape[0] == 2 and X.shape[1] >= 3, \"Fail to vectorize training features\"\n",
    "\n",
    "X_test = [{\"fea1\": 1, \"fea2\": 2}, {\"fea2\": 2, \"fea3\": 3}]\n",
    "X = cls.pipeline(X_test)\n",
    "assert X.shape[0] == 2 and X.shape[1] >= 3, \"Fail to vectorize testing features\"\n",
    "\n",
    "X_test = [{\"fea1\": 1, \"fea2\": 2}, {\"fea2\": 2, \"fea4\": 3}]\n",
    "try:\n",
    "    X = cls.pipeline(X_test)\n",
    "    assert X.shape[0] == 2 and X.shape[1] >= 3\n",
    "except:\n",
    "    raise Exception(\"Fail to treat un-seen features\")\n",
    "\n",
    "print(\"Success!!\")"
   ]
  },
  {
   "cell_type": "markdown",
   "metadata": {},
   "source": [
    "## Run your model"
   ]
  },
  {
   "cell_type": "code",
   "execution_count": 7,
   "metadata": {
    "ExecuteTime": {
     "end_time": "2020-02-23T20:55:17.432616Z",
     "start_time": "2020-02-23T20:55:17.086834Z"
    }
   },
   "outputs": [
    {
     "name": "stdout",
     "output_type": "stream",
     "text": [
      "Now training...\n",
      "7000 2\n",
      "Training set accuracy:  0.526\n",
      "Dev set accuracy:  0.5176666666666667\n"
     ]
    }
   ],
   "source": [
    "\"\"\"\n",
    "Run this cell to test your model\n",
    "\"\"\"\n",
    "from sklearn.model_selection import train_test_split\n",
    "\n",
    "data = load_data(\"train.txt\")\n",
    "X, y = data.text, data.target\n",
    "X_train, X_dev, y_train, y_dev = train_test_split(X, y, test_size=0.3)\n",
    "cls = SentimentClassifier(feature_method=dumb_featurize)\n",
    "cls = cls.fit(X_train, y_train)\n",
    "print(\"Training set accuracy: \", cls.score(X_train, y_train))\n",
    "print(\"Dev set accuracy: \", cls.score(X_dev, y_dev))"
   ]
  },
  {
   "cell_type": "code",
   "execution_count": 12,
   "metadata": {
    "ExecuteTime": {
     "end_time": "2020-02-23T19:59:41.183712Z",
     "start_time": "2020-02-23T19:59:40.752925Z"
    }
   },
   "outputs": [],
   "source": [
    "\"\"\"\n",
    "Run this cell to save weights and the prediction\n",
    "\"\"\"\n",
    "try:\n",
    "    weights = cls.save_weights()\n",
    "except:\n",
    "    pass\n",
    "X_test = load_data(\"test.txt\").text\n",
    "save_prediction(cls.predict(X_test))"
   ]
  },
  {
   "cell_type": "markdown",
   "metadata": {},
   "source": [
    "##  Example of better featurizer"
   ]
  },
  {
   "cell_type": "code",
   "execution_count": 24,
   "metadata": {
    "ExecuteTime": {
     "end_time": "2020-02-23T20:00:38.032607Z",
     "start_time": "2020-02-23T20:00:00.458431Z"
    }
   },
   "outputs": [
    {
     "name": "stdout",
     "output_type": "stream",
     "text": [
      "Now training...\n",
      "7000 6324\n"
     ]
    },
    {
     "name": "stderr",
     "output_type": "stream",
     "text": [
      "/usr/local/lib/python3.6/site-packages/sklearn/linear_model/_logistic.py:940: ConvergenceWarning: lbfgs failed to converge (status=1):\n",
      "STOP: TOTAL NO. of ITERATIONS REACHED LIMIT.\n",
      "\n",
      "Increase the number of iterations (max_iter) or scale the data as shown in:\n",
      "    https://scikit-learn.org/stable/modules/preprocessing.html\n",
      "Please also refer to the documentation for alternative solver options:\n",
      "    https://scikit-learn.org/stable/modules/linear_model.html#logistic-regression\n",
      "  extra_warning_msg=_LOGISTIC_SOLVER_CONVERGENCE_MSG)\n"
     ]
    },
    {
     "name": "stdout",
     "output_type": "stream",
     "text": [
      "Training set accuracy:  0.9278571428571428\n",
      "Dev set accuracy:  0.7643333333333333\n"
     ]
    }
   ],
   "source": [
    "def bag_of_words(text):\n",
    "    word_bag = Counter(text.lower().split(\" \"))\n",
    "\n",
    "    return word_bag\n",
    "\n",
    "from sklearn.model_selection import train_test_split\n",
    "\n",
    "data = load_data(\"train.txt\")\n",
    "X, y = data.text, data.target\n",
    "X_train, X_dev, y_train, y_dev = train_test_split(X, y, test_size=0.3)\n",
    "cls = SentimentClassifier(feature_method=bag_of_words, min_feature_ct=10)\n",
    "cls = cls.fit(X_train, y_train)\n",
    "print(\"Training set accuracy: \", cls.score(X_train, y_train))\n",
    "print(\"Dev set accuracy: \", cls.score(X_dev, y_dev))"
   ]
  },
  {
   "cell_type": "code",
   "execution_count": 10,
   "metadata": {},
   "outputs": [
    {
     "name": "stdout",
     "output_type": "stream",
     "text": [
      "Now training...\n",
      "7000 17344\n",
      "Training set accuracy:  0.9071428571428571\n",
      "Dev set accuracy:  0.793\n"
     ]
    }
   ],
   "source": [
    "\"\"\"\n",
    "Run this cell to test your model\n",
    "\"\"\"\n",
    "from sklearn.model_selection import train_test_split\n",
    "\n",
    "data = load_data(\"train.txt\")\n",
    "X, y = data.text, data.target\n",
    "X_train, X_dev, y_train, y_dev = train_test_split(X, y, test_size=0.3)\n",
    "cls = SentimentClassifier(feature_method=better_featurize, min_feature_ct=10,L2_reg=1.)\n",
    "cls = cls.fit(X_train, y_train)\n",
    "print(\"Training set accuracy: \", cls.score(X_train, y_train))\n",
    "print(\"Dev set accuracy: \", cls.score(X_dev, y_dev))"
   ]
  },
  {
   "cell_type": "code",
   "execution_count": 18,
   "metadata": {},
   "outputs": [
    {
     "data": {
      "image/png": "[encoded data removed]",
      "text/plain": [
       "<Figure size 432x288 with 1 Axes>"
      ]
     },
     "metadata": {
      "needs_background": "light"
     },
     "output_type": "display_data"
    }
   ],
   "source": [
    "import matplotlib.pyplot as plt\n",
    "#y_pred = cls.predict(X_test)\n",
    "#plt.hist([y_train,y_dev,y_pred],label=['train', 'dev', 'test'])\n",
    "#plt.legend()\n",
    "bag_of_words_method = {'Logistic Regression': (0.928,0.764),\"SVM\":(0.994,0.738),\"RandomForestClassifier\":(0.799,0.718),\"XGBoost\":(0.916,0.752)}\n",
    "own_method = {'Logistic Regression': (0.907,0.793),\"SVM\":(0.995,0.770),\"RandomForestClassifier\":(0.791,0.724),\"XGBoost\":(0.955,0.732)}\n",
    "fig = plt.figure()\n",
    "ax = fig.add_axes([0,0,1,1])\n",
    "methods = bag_of_words_method.keys()\n",
    "train = [value[0] for value in bag_of_words_method.values()]\n",
    "dev = [value[1] for value in bag_of_words_method.values()]\n",
    "train1 = [value[0] for value in own_method.values()]\n",
    "dev1 = [value[1] for value in own_method.values()]\n",
    "X = np.arange(len(methods))*2\n",
    "ax.bar(X-0.375, train,width = 0.25)\n",
    "ax.bar(X-0.125, dev,width = 0.25)\n",
    "ax.bar(X+0.125, train1,width = 0.25)\n",
    "ax.bar(X+0.375, dev1,width = 0.25)\n",
    "ax.set_xticks(X)\n",
    "ax.set_xticklabels(methods)\n",
    "ax.legend(labels=['bow train', 'bow dev','own train','own dev'])\n",
    "plt.show()"
   ]
  },
  {
   "cell_type": "code",
   "execution_count": 16,
   "metadata": {},
   "outputs": [
    {
     "data": {
      "text/plain": [
       "([array([3485.,    0.,    0.,    0.,    0.,    0.,    0.,    0.,    0.,\n",
       "         3515.]),\n",
       "  array([1526.,    0.,    0.,    0.,    0.,    0.,    0.,    0.,    0.,\n",
       "         1474.]),\n",
       "  array([1861.,    0.,    0.,    0.,    0.,    0.,    0.,    0.,    0.,\n",
       "         1853.])],\n",
       " array([0. , 0.1, 0.2, 0.3, 0.4, 0.5, 0.6, 0.7, 0.8, 0.9, 1. ]),\n",
       " <a list of 3 Lists of Patches objects>)"
      ]
     },
     "execution_count": 16,
     "metadata": {},
     "output_type": "execute_result"
    },
    {
     "data": {
      "image/png": "[encoded data removed]",
      "text/plain": [
       "<Figure size 432x288 with 1 Axes>"
      ]
     },
     "metadata": {
      "needs_background": "light"
     },
     "output_type": "display_data"
    }
   ],
   "source": [
    "plt.hist([y_train, y_dev,cls.predict(X_test)]) # very balanced dataset! good"
   ]
  },
  {
   "cell_type": "code",
   "execution_count": null,
   "metadata": {},
   "outputs": [],
   "source": []
  }
 ],
 "metadata": {
  "kernelspec": {
   "display_name": "Python 3",
   "language": "python",
   "name": "python3"
  },
  "language_info": {
   "codemirror_mode": {
    "name": "ipython",
    "version": 3
   },
   "file_extension": ".py",
   "mimetype": "text/x-python",
   "name": "python",
   "nbconvert_exporter": "python",
   "pygments_lexer": "ipython3",
   "version": "3.6.5"
  },
  "toc": {
   "base_numbering": 1,
   "nav_menu": {},
   "number_sections": false,
   "sideBar": true,
   "skip_h1_title": false,
   "title_cell": "Table of Contents",
   "title_sidebar": "Contents",
   "toc_cell": false,
   "toc_position": {
    "height": "calc(100% - 180px)",
    "left": "10px",
    "top": "150px",
    "width": "288px"
   },
   "toc_section_display": true,
   "toc_window_display": true
  }
 },
 "nbformat": 4,
 "nbformat_minor": 2
}
