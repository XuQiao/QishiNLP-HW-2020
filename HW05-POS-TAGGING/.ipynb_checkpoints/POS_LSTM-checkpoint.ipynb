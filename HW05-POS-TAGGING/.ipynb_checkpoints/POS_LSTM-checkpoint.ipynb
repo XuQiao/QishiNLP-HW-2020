{
 "cells": [
  {
   "cell_type": "markdown",
   "metadata": {},
   "source": [
    "# Introduction\n",
    "\n",
    "### Due April 17th, 23:59\n",
    "\n",
    "In this homework you will be implementing a LSTM model for POS tagging.\n",
    "\n",
    "You are given the following files:\n",
    "- `POS_NEMM.ipynb`: Notebook file for NEMM model (Optional)\n",
    "- `POS_LTML.ipynb`: Notebook file for MTML model\n",
    "- `train.txt`: Training set to train your model\n",
    "- `test.txt`: Test set to report your model’s performance\n",
    "- `tags.csv`: Treebank tag universe\n",
    "- `sample_prediction.csv`: Sample file your prediction result should look like\n",
    "- `utils/`: folder containing all utility code for the series of homeworks\n",
    "\n",
    "\n",
    "### Deliverables (zip them all)\n",
    "\n",
    "- pdf or html version of your final notebook\n",
    "- Use the best model you trained, generate the prediction for test.txt, name the\n",
    "output file prediction.csv (Be careful: the best model in your training set might not\n",
    "be the best model for the test set).\n",
    "- writeup.pdf: summarize the method you used and report their performance.\n",
    "If you worked on the optional task, add the discussion. Add a short essay\n",
    "discussing the biggest challenges you encounter during this assignment and\n",
    "what you have learnt.\n",
    "\n",
    "(**You are encouraged to add the writeup doc into your notebook\n",
    "using markdown/html langauge, just like how this notes is prepared**)\n"
   ]
  },
  {
   "cell_type": "markdown",
   "metadata": {},
   "source": [
    "<h1><center>HW05 Write up</center></h1>\n",
    "<h2> POS LSTM </h2>\n",
    "\n",
    "This part is fairly straightforward mostly because the framework has already been done by the instructor.\n",
    "\n",
    "The architechure is simple, just use two bidirectional LSTMs with 100 units, it already has a high prediction power.\n",
    "\n",
    "The LSTM predicts a \n",
    "ignore_accuracy: 0.9627 \n",
    "sentence_accuracy: 0.5611 \n",
    "val_ignore_accuracy: 0.9451\n",
    "val_sentence_accuracy: 0.4566\n",
    "\n",
    "It can get 95% more of the tokens POS right and half of the whole sentence correct.\n",
    "\n",
    "<h2> Optional POS MEMM </h2>\n",
    "\n",
    "This part requires more coding and algorithm knowledge, so more challenging. \n",
    "\n",
    "I spend few hours on the viterbi algorithm implementation, and I think I learnt more about the dynamics programming\n",
    "\n",
    "and I also found it is not only used in the POS tagging, but also a lot of other areas like DNA sequencing, also, \n",
    "\n",
    "this notebook problem is not \"hidden\", it is pretty extensible to Hidden Markov Model, just adding another \n",
    "\n",
    "probability matrix.\n",
    "\n",
    "The training of MEMM takes a lot of time and it actually does not do as well as the LSTM one. It only uses \n",
    "\n",
    "information in the context but not the whole history, and it is not optimized for speed."
   ]
  },
  {
   "cell_type": "markdown",
   "metadata": {},
   "source": [
    "# Load data"
   ]
  },
  {
   "cell_type": "code",
   "execution_count": 1,
   "metadata": {},
   "outputs": [
    {
     "name": "stderr",
     "output_type": "stream",
     "text": [
      "Using TensorFlow backend.\n",
      "/usr/local/lib/python3.6/site-packages/tensorflow/python/framework/dtypes.py:516: FutureWarning: Passing (type, 1) or '1type' as a synonym of type is deprecated; in a future version of numpy, it will be understood as (type, (1,)) / '(1,)type'.\n",
      "  _np_qint8 = np.dtype([(\"qint8\", np.int8, 1)])\n",
      "/usr/local/lib/python3.6/site-packages/tensorflow/python/framework/dtypes.py:517: FutureWarning: Passing (type, 1) or '1type' as a synonym of type is deprecated; in a future version of numpy, it will be understood as (type, (1,)) / '(1,)type'.\n",
      "  _np_quint8 = np.dtype([(\"quint8\", np.uint8, 1)])\n",
      "/usr/local/lib/python3.6/site-packages/tensorflow/python/framework/dtypes.py:518: FutureWarning: Passing (type, 1) or '1type' as a synonym of type is deprecated; in a future version of numpy, it will be understood as (type, (1,)) / '(1,)type'.\n",
      "  _np_qint16 = np.dtype([(\"qint16\", np.int16, 1)])\n",
      "/usr/local/lib/python3.6/site-packages/tensorflow/python/framework/dtypes.py:519: FutureWarning: Passing (type, 1) or '1type' as a synonym of type is deprecated; in a future version of numpy, it will be understood as (type, (1,)) / '(1,)type'.\n",
      "  _np_quint16 = np.dtype([(\"quint16\", np.uint16, 1)])\n",
      "/usr/local/lib/python3.6/site-packages/tensorflow/python/framework/dtypes.py:520: FutureWarning: Passing (type, 1) or '1type' as a synonym of type is deprecated; in a future version of numpy, it will be understood as (type, (1,)) / '(1,)type'.\n",
      "  _np_qint32 = np.dtype([(\"qint32\", np.int32, 1)])\n",
      "/usr/local/lib/python3.6/site-packages/tensorflow/python/framework/dtypes.py:525: FutureWarning: Passing (type, 1) or '1type' as a synonym of type is deprecated; in a future version of numpy, it will be understood as (type, (1,)) / '(1,)type'.\n",
      "  np_resource = np.dtype([(\"resource\", np.ubyte, 1)])\n",
      "/usr/local/lib/python3.6/site-packages/tensorboard/compat/tensorflow_stub/dtypes.py:541: FutureWarning: Passing (type, 1) or '1type' as a synonym of type is deprecated; in a future version of numpy, it will be understood as (type, (1,)) / '(1,)type'.\n",
      "  _np_qint8 = np.dtype([(\"qint8\", np.int8, 1)])\n",
      "/usr/local/lib/python3.6/site-packages/tensorboard/compat/tensorflow_stub/dtypes.py:542: FutureWarning: Passing (type, 1) or '1type' as a synonym of type is deprecated; in a future version of numpy, it will be understood as (type, (1,)) / '(1,)type'.\n",
      "  _np_quint8 = np.dtype([(\"quint8\", np.uint8, 1)])\n",
      "/usr/local/lib/python3.6/site-packages/tensorboard/compat/tensorflow_stub/dtypes.py:543: FutureWarning: Passing (type, 1) or '1type' as a synonym of type is deprecated; in a future version of numpy, it will be understood as (type, (1,)) / '(1,)type'.\n",
      "  _np_qint16 = np.dtype([(\"qint16\", np.int16, 1)])\n",
      "/usr/local/lib/python3.6/site-packages/tensorboard/compat/tensorflow_stub/dtypes.py:544: FutureWarning: Passing (type, 1) or '1type' as a synonym of type is deprecated; in a future version of numpy, it will be understood as (type, (1,)) / '(1,)type'.\n",
      "  _np_quint16 = np.dtype([(\"quint16\", np.uint16, 1)])\n",
      "/usr/local/lib/python3.6/site-packages/tensorboard/compat/tensorflow_stub/dtypes.py:545: FutureWarning: Passing (type, 1) or '1type' as a synonym of type is deprecated; in a future version of numpy, it will be understood as (type, (1,)) / '(1,)type'.\n",
      "  _np_qint32 = np.dtype([(\"qint32\", np.int32, 1)])\n",
      "/usr/local/lib/python3.6/site-packages/tensorboard/compat/tensorflow_stub/dtypes.py:550: FutureWarning: Passing (type, 1) or '1type' as a synonym of type is deprecated; in a future version of numpy, it will be understood as (type, (1,)) / '(1,)type'.\n",
      "  np_resource = np.dtype([(\"resource\", np.ubyte, 1)])\n"
     ]
    }
   ],
   "source": [
    "%load_ext autoreload\n",
    "%autoreload 2\n",
    "%matplotlib inline\n",
    "import os\n",
    "import sys\n",
    "import pandas as pd\n",
    "import numpy as np\n",
    "from sklearn.model_selection import train_test_split\n",
    "from scipy import sparse\n",
    "\n",
    "# add utils folder to path\n",
    "p = os.path.dirname(os.getcwd())\n",
    "if p not in sys.path:\n",
    "    sys.path = [p] + sys.path\n",
    "    \n",
    "from utils.hw5 import load_data, save_prediction, ignore_class_accuracy, whole_sentence_accuracy\n",
    "from utils.general import show_keras_model"
   ]
  },
  {
   "cell_type": "markdown",
   "metadata": {},
   "source": [
    "`tags` is a dictionary that maps the [Treebank tag](https://www.clips.uantwerpen.be/pages/mbsp-tags) to its numerical encoding. There are 45 tags in total, plus a special tag `START (tags[-1])` to indicate the beginning of a sentence. "
   ]
  },
  {
   "cell_type": "code",
   "execution_count": 2,
   "metadata": {
    "ExecuteTime": {
     "end_time": "2019-04-03T05:10:05.453780Z",
     "start_time": "2019-04-03T05:10:04.295178Z"
    },
    "scrolled": true
   },
   "outputs": [
    {
     "name": "stdout",
     "output_type": "stream",
     "text": [
      "Training set: 33539\n",
      "Dev set: 11180\n",
      "Testing set: 9955\n"
     ]
    }
   ],
   "source": [
    "tags = list(pd.read_csv('tags.csv', index_col=0).tag_encode.keys())\n",
    "\n",
    "train, train_label = load_data(\"train.txt\")\n",
    "train, dev, train_label, dev_label = train_test_split(train, train_label)\n",
    "test, _ = load_data(\"test.txt\")\n",
    "\n",
    "print(\"Training set: %d\" % len(train))\n",
    "print(\"Dev set: %d\" % len(dev))\n",
    "print(\"Testing set: %d\" % len(test))"
   ]
  },
  {
   "cell_type": "markdown",
   "metadata": {},
   "source": [
    "# LSTM"
   ]
  },
  {
   "cell_type": "code",
   "execution_count": 3,
   "metadata": {
    "ExecuteTime": {
     "end_time": "2019-04-03T05:14:20.197334Z",
     "start_time": "2019-04-03T05:14:20.146236Z"
    }
   },
   "outputs": [],
   "source": [
    "from collections import Counter\n",
    "from keras.preprocessing.sequence import pad_sequences\n",
    "from keras.models import Sequential\n",
    "from keras.layers import Dense, LSTM, InputLayer, Bidirectional, TimeDistributed, Embedding, Activation\n",
    "from keras.optimizers import Adam\n",
    "from keras.utils import to_categorical\n",
    "\n",
    "class POS_LSTMM:\n",
    "    \"\"\"\n",
    "    To help you focus on the LSTM model, I have made most part of the code ready, make sure you\n",
    "    read all the parts to understand how the code works. You only need to modify the prepare method \n",
    "    to add the RNN model.\n",
    "    \"\"\"\n",
    "    def __init__(self, tag_vocab=tags, max_sent_len=40, \n",
    "                 voc_min_freq=5, **kwargs):\n",
    "        \"\"\"\n",
    "        input: \n",
    "            tag_vocab: tag dictionary, you will less likely need to change this\n",
    "            voc_min_freq: use this to truncate low frequency vocabulary\n",
    "            max_sent_len: truncate/pad all sentences to this length\n",
    "            \n",
    "            kwargs: Use as needed to pass extra parameters\n",
    "        \"\"\"\n",
    "        self.vocab = []\n",
    "        self.reverse_vocab = {}\n",
    "        self.tag_vocab = tag_vocab\n",
    "        self.reverse_tag_vocab = {k:v for v, k in enumerate(tag_vocab)}\n",
    "        self._voc_min_freq = voc_min_freq\n",
    "        self._max_sent_len = max_sent_len\n",
    "\n",
    "        \"\"\"\n",
    "        Feel free to add code here as you need\n",
    "        \"\"\"\n",
    "\n",
    "    def collect_vocab(self, X):\n",
    "        \"\"\"\n",
    "        Create vocabulary from all input data\n",
    "        input:\n",
    "            X: list of sentences\n",
    "        \"\"\"\n",
    "        vocab = Counter([t for s in X for t in s])\n",
    "        vocab = {k: v for k, v in vocab.items() if v > self._voc_min_freq}\n",
    "        vocab = [\"<PAD>\", \"<UNK>\"] + sorted(vocab, key=lambda x: vocab[x], reverse=True)\n",
    "        reverse_vocab = {k: v for v, k in enumerate(vocab)}\n",
    "        \n",
    "        return vocab, reverse_vocab\n",
    "                \n",
    "    def transform_X(self, X):\n",
    "        \"\"\"\n",
    "        Translate input raw data X into trainable numerical data\n",
    "        input:\n",
    "            X: list of sentences\n",
    "        \"\"\"\n",
    "        X_out = []\n",
    "        \n",
    "        for sent in X:\n",
    "            X_out.append([self.reverse_vocab.get(t, 0) for t in sent])\n",
    "            \n",
    "        X_out = pad_sequences(sequences=X_out, maxlen=self._max_sent_len, \n",
    "                              padding='post', truncating='post',\n",
    "                              value=self.reverse_vocab['<PAD>'])\n",
    "        \n",
    "        return X_out\n",
    "    \n",
    "    def transform_Y(self, Y):\n",
    "        \"\"\"\n",
    "        Translate input raw data Y into trainable numerical data\n",
    "        input:\n",
    "            y: list of list of tags\n",
    "        \"\"\"\n",
    "        Y_out = [] \n",
    "        \n",
    "        for labs in Y:\n",
    "            Y_out.append([self.reverse_tag_vocab[lab] for lab in labs])\n",
    "            \n",
    "        Y_out = pad_sequences(sequences=Y_out, maxlen=self._max_sent_len, \n",
    "                              padding='post', truncating='post',\n",
    "                              value=self.reverse_tag_vocab['<PAD>'])\n",
    "        \n",
    "        return Y_out\n",
    "    \n",
    "    def prepare(self, X, Y):\n",
    "        \"\"\"\n",
    "        input:\n",
    "            X: list of sentences\n",
    "            y: list of list of tags\n",
    "        \"\"\"\n",
    "        self.vocab, self.reverse_vocab = self.collect_vocab(X)\n",
    "        X, Y = self.transform_X(X), self.transform_Y(Y)\n",
    "        \n",
    "        model = Sequential()\n",
    "        \"\"\"\n",
    "        Write your own model here\n",
    "        Hints:\n",
    "            - Rember to use embedding layer at the beginning\n",
    "            - Use Bidrectional LSTM to take advantage of both direction history  \n",
    "        \"\"\"\n",
    "        \n",
    "        model.add(Embedding(input_dim=len(self.vocab),output_dim=100,input_length=self._max_sent_len))\n",
    "        model.add(Bidirectional(LSTM(100, return_sequences=True)))\n",
    "        model.add(Bidirectional(LSTM(100, return_sequences=True)))\n",
    "        model.add(TimeDistributed(Dense(len(self.tag_vocab),activation=\"softmax\")))\n",
    "\n",
    "        \"\"\"\n",
    "        You can read the source code to understand how ignore_class_accuracy works.\n",
    "        The reason of using this customized metric is because we have padded the training \n",
    "        data with lots of '<PAD>' tag. It's easy and useless to predict this tag, we need \n",
    "        to ignore this tag when calculate the accuracy.\n",
    "        \"\"\"\n",
    "        model.compile(loss='categorical_crossentropy',\n",
    "                      optimizer=Adam(0.001),\n",
    "                      metrics=['accuracy', \n",
    "                               ignore_class_accuracy(self.reverse_tag_vocab['<PAD>']),\n",
    "                               whole_sentence_accuracy(self.reverse_tag_vocab['<PAD>'])])\n",
    "\n",
    "        self.model = model\n",
    "        \n",
    "        return self\n",
    "        \n",
    "        \n",
    "    def fit(self, X, Y, batch_size=128, epochs=10):\n",
    "        X, Y = self.transform_X(X), self.transform_Y(Y)\n",
    "        self.model.fit(X, to_categorical(Y, num_classes=len(self.tag_vocab)),\n",
    "                       batch_size=batch_size, \n",
    "                       epochs=epochs, validation_split=0.2)\n",
    "\n",
    "        return self\n",
    "\n",
    "    def predict(self, X):\n",
    "        results = []\n",
    "        X_new = self.transform_X(X)\n",
    "        Y_pred = self.model.predict_classes(X_new)\n",
    "    \n",
    "        for i, y in enumerate(Y_pred):\n",
    "            results.append(\n",
    "                [self.tag_vocab[y[j]] for j in range(min(len(X[i]), len(X_new[i])))]\n",
    "            )\n",
    "            \n",
    "        return results"
   ]
  },
  {
   "cell_type": "code",
   "execution_count": 4,
   "metadata": {
    "scrolled": false
   },
   "outputs": [
    {
     "name": "stderr",
     "output_type": "stream",
     "text": [
      "WARNING: Logging before flag parsing goes to stderr.\n",
      "W0412 17:38:26.223311 4629745088 deprecation_wrapper.py:119] From /usr/local/lib/python3.6/site-packages/keras/backend/tensorflow_backend.py:74: The name tf.get_default_graph is deprecated. Please use tf.compat.v1.get_default_graph instead.\n",
      "\n",
      "W0412 17:38:26.276912 4629745088 deprecation_wrapper.py:119] From /usr/local/lib/python3.6/site-packages/keras/backend/tensorflow_backend.py:517: The name tf.placeholder is deprecated. Please use tf.compat.v1.placeholder instead.\n",
      "\n",
      "W0412 17:38:26.282796 4629745088 deprecation_wrapper.py:119] From /usr/local/lib/python3.6/site-packages/keras/backend/tensorflow_backend.py:4138: The name tf.random_uniform is deprecated. Please use tf.random.uniform instead.\n",
      "\n",
      "W0412 17:38:29.161601 4629745088 deprecation_wrapper.py:119] From /usr/local/lib/python3.6/site-packages/keras/optimizers.py:790: The name tf.train.Optimizer is deprecated. Please use tf.compat.v1.train.Optimizer instead.\n",
      "\n",
      "W0412 17:38:29.186764 4629745088 deprecation_wrapper.py:119] From /usr/local/lib/python3.6/site-packages/keras/backend/tensorflow_backend.py:3295: The name tf.log is deprecated. Please use tf.math.log instead.\n",
      "\n"
     ]
    },
    {
     "name": "stdout",
     "output_type": "stream",
     "text": [
      "_________________________________________________________________\n",
      "Layer (type)                 Output Shape              Param #   \n",
      "=================================================================\n",
      "embedding_1 (Embedding)      (None, 40, 100)           809100    \n",
      "_________________________________________________________________\n",
      "bidirectional_1 (Bidirection (None, 40, 200)           160800    \n",
      "_________________________________________________________________\n",
      "bidirectional_2 (Bidirection (None, 40, 200)           240800    \n",
      "_________________________________________________________________\n",
      "time_distributed_1 (TimeDist (None, 40, 47)            9447      \n",
      "=================================================================\n",
      "Total params: 1,220,147\n",
      "Trainable params: 1,220,147\n",
      "Non-trainable params: 0\n",
      "_________________________________________________________________\n"
     ]
    },
    {
     "data": {
      "image/png": "[encoded data removed]",
      "text/plain": [
       "<IPython.core.display.Image object>"
      ]
     },
     "execution_count": 4,
     "metadata": {},
     "output_type": "execute_result"
    }
   ],
   "source": [
    "lstm = POS_LSTMM().prepare(train, train_label)\n",
    "lstm.model.summary()\n",
    "show_keras_model(lstm.model)"
   ]
  },
  {
   "cell_type": "code",
   "execution_count": 5,
   "metadata": {},
   "outputs": [
    {
     "name": "stderr",
     "output_type": "stream",
     "text": [
      "W0412 17:38:38.322596 4629745088 deprecation.py:323] From /usr/local/lib/python3.6/site-packages/tensorflow/python/ops/math_grad.py:1250: add_dispatch_support.<locals>.wrapper (from tensorflow.python.ops.array_ops) is deprecated and will be removed in a future version.\n",
      "Instructions for updating:\n",
      "Use tf.where in 2.0, which has the same broadcast rule as np.where\n",
      "W0412 17:38:46.296940 4629745088 deprecation_wrapper.py:119] From /usr/local/lib/python3.6/site-packages/keras/backend/tensorflow_backend.py:986: The name tf.assign_add is deprecated. Please use tf.compat.v1.assign_add instead.\n",
      "\n"
     ]
    },
    {
     "name": "stdout",
     "output_type": "stream",
     "text": [
      "Train on 26831 samples, validate on 6708 samples\n",
      "Epoch 1/10\n",
      "26831/26831 [==============================] - 178s 7ms/step - loss: 1.4483 - acc: 0.6135 - ignore_accuracy: 0.1679 - sentence_accuracy: 0.0059 - val_loss: 0.8909 - val_acc: 0.7580 - val_ignore_accuracy: 0.4741 - val_sentence_accuracy: 0.0507\n",
      "Epoch 2/10\n",
      "26831/26831 [==============================] - 164s 6ms/step - loss: 0.3965 - acc: 0.8948 - ignore_accuracy: 0.7730 - sentence_accuracy: 0.1496 - val_loss: 0.1690 - val_acc: 0.9588 - val_ignore_accuracy: 0.9103 - val_sentence_accuracy: 0.2944\n",
      "Epoch 3/10\n",
      "26831/26831 [==============================] - 138s 5ms/step - loss: 0.1277 - acc: 0.9665 - ignore_accuracy: 0.9273 - sentence_accuracy: 0.3587 - val_loss: 0.1098 - val_acc: 0.9695 - val_ignore_accuracy: 0.9336 - val_sentence_accuracy: 0.3939\n",
      "Epoch 4/10\n",
      "26831/26831 [==============================] - 144s 5ms/step - loss: 0.0952 - acc: 0.9724 - ignore_accuracy: 0.9402 - sentence_accuracy: 0.4201 - val_loss: 0.0943 - val_acc: 0.9724 - val_ignore_accuracy: 0.9402 - val_sentence_accuracy: 0.4240\n",
      "Epoch 5/10\n",
      "26831/26831 [==============================] - 150s 6ms/step - loss: 0.0821 - acc: 0.9750 - ignore_accuracy: 0.9457 - sentence_accuracy: 0.4515 - val_loss: 0.0888 - val_acc: 0.9736 - val_ignore_accuracy: 0.9427 - val_sentence_accuracy: 0.4366\n",
      "Epoch 6/10\n",
      "26831/26831 [==============================] - 141s 5ms/step - loss: 0.0740 - acc: 0.9770 - ignore_accuracy: 0.9501 - sentence_accuracy: 0.4763 - val_loss: 0.0836 - val_acc: 0.9745 - val_ignore_accuracy: 0.9446 - val_sentence_accuracy: 0.4533\n",
      "Epoch 7/10\n",
      "26831/26831 [==============================] - 149s 6ms/step - loss: 0.0677 - acc: 0.9788 - ignore_accuracy: 0.9540 - sentence_accuracy: 0.4994 - val_loss: 0.0840 - val_acc: 0.9742 - val_ignore_accuracy: 0.9441 - val_sentence_accuracy: 0.4477\n",
      "Epoch 8/10\n",
      "26831/26831 [==============================] - 149s 6ms/step - loss: 0.0627 - acc: 0.9800 - ignore_accuracy: 0.9566 - sentence_accuracy: 0.5181 - val_loss: 0.0820 - val_acc: 0.9748 - val_ignore_accuracy: 0.9456 - val_sentence_accuracy: 0.4539\n",
      "Epoch 9/10\n",
      "26831/26831 [==============================] - 132s 5ms/step - loss: 0.0580 - acc: 0.9814 - ignore_accuracy: 0.9597 - sentence_accuracy: 0.5373 - val_loss: 0.0824 - val_acc: 0.9749 - val_ignore_accuracy: 0.9456 - val_sentence_accuracy: 0.4551\n",
      "Epoch 10/10\n",
      "26831/26831 [==============================] - 125s 5ms/step - loss: 0.0536 - acc: 0.9828 - ignore_accuracy: 0.9627 - sentence_accuracy: 0.5611 - val_loss: 0.0847 - val_acc: 0.9747 - val_ignore_accuracy: 0.9451 - val_sentence_accuracy: 0.4566\n"
     ]
    },
    {
     "data": {
      "text/plain": [
       "<__main__.POS_LSTMM at 0x135f3f438>"
      ]
     },
     "execution_count": 5,
     "metadata": {},
     "output_type": "execute_result"
    }
   ],
   "source": [
    "lstm = POS_LSTMM().prepare(train, train_label)\n",
    "lstm.fit(train, train_label)"
   ]
  },
  {
   "cell_type": "markdown",
   "metadata": {},
   "source": [
    "## Save your model prediction"
   ]
  },
  {
   "cell_type": "code",
   "execution_count": 6,
   "metadata": {
    "ExecuteTime": {
     "end_time": "2019-04-03T05:15:01.277528Z",
     "start_time": "2019-04-03T05:14:59.503776Z"
    }
   },
   "outputs": [],
   "source": [
    "prediction = lstm.predict(test)\n",
    "save_prediction(prediction)"
   ]
  },
  {
   "cell_type": "code",
   "execution_count": null,
   "metadata": {},
   "outputs": [],
   "source": []
  }
 ],
 "metadata": {
  "kernelspec": {
   "display_name": "Python 3",
   "language": "python",
   "name": "python3"
  },
  "language_info": {
   "codemirror_mode": {
    "name": "ipython",
    "version": 3
   },
   "file_extension": ".py",
   "mimetype": "text/x-python",
   "name": "python",
   "nbconvert_exporter": "python",
   "pygments_lexer": "ipython3",
   "version": "3.6.5"
  },
  "toc": {
   "base_numbering": 1,
   "nav_menu": {},
   "number_sections": true,
   "sideBar": true,
   "skip_h1_title": false,
   "title_cell": "Table of Contents",
   "title_sidebar": "Contents",
   "toc_cell": false,
   "toc_position": {
    "height": "calc(100% - 180px)",
    "left": "10px",
    "top": "150px",
    "width": "165px"
   },
   "toc_section_display": true,
   "toc_window_display": true
  }
 },
 "nbformat": 4,
 "nbformat_minor": 2
}
