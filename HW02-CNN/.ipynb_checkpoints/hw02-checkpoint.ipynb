{
 "cells": [
  {
   "cell_type": "markdown",
   "metadata": {},
   "source": [
    "<h1><center>HW2 Convolutional neural networks for text classification\n",
    "</center></h1>\n",
    "<h2><center>Due: March 2020 13th, 23:59</center></h2>\n",
    "\n",
    "In this homework you will learn how to build a simple convolutional neural networks (1 convolution layer with max pooling + 1 activation layer) from scratch, and use the model to solve text classification problem. As optional, you also have a chance to build real life CNN models using Keras + Tensorflow and use it to challenge the model you build from scratch. \n",
    "    \n",
    "<h3> 1. Math preliminaries </h3>\n",
    "\n",
    "Please answer all these questions:\n",
    "    \n",
    "1. What is the form of sigmoid function $\\sigma(z)$ ? Show that $\\sigma′(z) = \\sigma(z)[1 − \\sigma(z)]$.\n",
    "<br/>\n",
    "\n",
    "<font color='blue'>\n",
    "<p>Answer: $\\sigma(z) = \\frac{1}{1+e^{-z}}$</p>\n",
    "<p>$\\sigma'(z) = (1+e^{-z})'*(-\\frac{1}{(1+e^{-z})}^2)$</p>\n",
    "<p>$= \\frac{e^{-z}}{(1+e^{-z})^2}$</p>\n",
    "<p>$= \\frac{1}{1+e^{-z}} *\\frac{e^{-z}}{(1+e^{-z})}$</p>\n",
    "<p>$= \\sigma(z)[1 -\\sigma(z)]$</p>\n",
    "</font>\n",
    "\n",
    "2. Another popular activation function is $tanh(z) = \\frac{e^z-e^{-z}}{e^z+e^{-z}}$ , show that $tanh′(z) = 1 − tanh(z)^2$.\n",
    "<br/>\n",
    "\n",
    "<font color='blue'>\n",
    "<p>Answer: $tanh(z) = \\frac{e^z-e^{-z}}{e^z+e^{-z}}$</p>\n",
    "<p>denote $a(z) = e^z-e^{-z}$, $b(z) = e^z+e^{-z}$, easy to see that $a'(z) = b$ and $b'(z) = a$</p>\n",
    "<p>$tanh(z) = \\frac{a}{b}$</p>\n",
    "<p>$tanh'(z) = \\frac{a'*b - b'*a}{b^2} = \\frac{b^2-a^2}{b^2} = 1 - (a/b)^2 = 1 - tanh(z)^2$</p>\n",
    "</font>\n",
    "\n",
    "3. For a single variable single layer perceptron with sigmoid activation function (equivalent\n",
    "to LR) and loss function defined as:\n",
    "<center>$\\hat{y}_i = \\sigma( w_1 x_i + w_0 )$ </center>\n",
    "<center>$L(w_0, w_1) = \\sum_i y_i lg(\\hat{y}_i)+(1−y_i)lg(1−\\hat{y}_i)$ </center>\n",
    "Show that:\n",
    "<center>$\\frac{\\partial{L}}{\\partial{w_1}} =\\sum_i(y_i−\\hat{y}_i)x_i$ </center>\n",
    "<center>$\\frac{\\partial{L}}{\\partial{w_0}} =\\sum_i(y−\\hat{y}_i)$  </center>\n",
    "<br/>\n",
    "\n",
    "<font color='blue'> \n",
    "<p>Answer: $\\frac{\\partial{L}}{\\partial{w_1}} = \\sum_i \\frac{\\partial{L}}{\\partial{\\hat{y}_i}}\\frac{\\partial{\\hat{y}_i}}{\\partial{w_1}}$</p>\n",
    "<p>$= \\sum_i (\\frac{y_i}{\\hat{y}_i} - \\frac{1-y_i}{1-\\hat{y}_i}) x_i \\sigma'(w_1 x_i + w_0)$</p>\n",
    "<p>$= \\sum_i (\\frac{y_i}{\\hat{y}_i} - \\frac{1-y_i}{1-\\hat{y}_i}) x_i \\hat{y}_i (1 - \\hat{y}_i)$</p>\n",
    "<p>$= \\sum_i (y_i (1-\\hat{y}_i) - (1-y_i)\\hat{y}_i) x_i$</p>\n",
    "<p>$= \\sum_i (y_i-\\hat{y}_i)x_i$</p>\n",
    "<p>$\\frac{\\partial{L}}{\\partial{w_0}} = \\sum_i \\frac{\\partial{L}}{\\partial{\\hat{y}_i}}\\frac{\\partial{\\hat{y}_i}}{\\partial{w_0}}$</p>\n",
    "<p>$= \\sum_i (\\frac{y_i}{\\hat{y}_i} - \\frac{1-y_i}{1-\\hat{y}_i}) \\sigma'(w_1 x_i + w_0)$</p>\n",
    "<p>$= \\sum_i (\\frac{y_i}{\\hat{y}_i} - \\frac{1-y_i}{1-\\hat{y}_i}) \\hat{y}_i (1 - \\hat{y}_i)$</p>\n",
    "<p>$= \\sum_i (y_i (1-\\hat{y}_i) - (1-y_i)\\hat{y}_i)$</p>\n",
    "<p>$= \\sum_i (y_i-\\hat{y}_i)$</p>\n",
    "</font>\n",
    "\n",
    "4. For column vectors $\\vec{x}$ and $\\vec{w}$ , and a symmetric matrix $\\overleftrightarrow{M}$, define the gradient operator:\n",
    "<center> $\\nabla_x = (\\frac{\\partial}{\\partial{x_0}}, \\frac{\\partial}{\\partial{x_1}}, ...,\\frac{\\partial}{\\partial{x_n}})^T$ </center>\n",
    "show that:\n",
    "<center> $\\nabla_x(\\vec{w}^T\\vec{x}) = \\vec{w}$ </center>\n",
    "<center> $\\nabla_x(\\vec{x}^T\\vec{w}) = \\vec{w}$ </center>\n",
    "<center> $\\nabla_x(\\vec{w}^T\\overleftrightarrow{M}\\vec{x}) = \\overleftrightarrow{M}\\vec{w}$ </center>\n",
    "<br/>\n",
    "\n",
    "<font color='blue'> \n",
    "<p>Answer: $\\vec{w}^T\\vec{x} = \\sum_i w_i x_i$</p>\n",
    "<p>$\\frac{\\partial{\\vec{w}^T\\vec{x}}}{\\partial{x_i}} = w_i$</p>\n",
    "<p>$\\nabla_x(\\vec{w}^T\\vec{x}) = (w_0, w_1, ...,w_n)^{T} = \\vec{w}$</p>\n",
    "<p>$\\vec{x}^T\\vec{w} = \\sum_i x_i w_i$</p>\n",
    "<p>$\\frac{\\partial{\\vec{x}^T\\vec{w}}}{\\partial{x_i}} = w_i$</p>\n",
    "<p>$\\nabla_x(\\vec{x}^T\\vec{w}) = (w_0, w_1, ...,w_n)^{T} = \\vec{w}$</p>\n",
    "<p>$\\nabla_x(\\vec{w}^T\\overleftrightarrow{M}\\vec{x}) = \\nabla_x(\\sum_i \\sum_j w_i M_{ij} x_j)$</p>\n",
    "<p>$=(\\sum_j w_0 M_{0j}, \\sum_j w_1 M_{1j}, ..., \\sum_j w_n M_{nj})$</p>\n",
    "<p>and $\\overleftrightarrow{M}\\vec{w} = (\\sum_{j} M_{0j} w_0, \\sum_j M_{1j}w_1 , ..., \\sum_j M_{nj} w_n)$</p>\n",
    "<p>so $\\nabla_x(\\vec{w}^T\\overleftrightarrow{M}\\vec{x}) = \\overleftrightarrow{M}\\vec{w}$</p>\n",
    "</font>\n",
    "\n",
    "\n",
    "5. Let’s expand Q3 to a more general case. Suppose there is a single layer perceptron with multiple variables:\n",
    "<center> $\\hat{y}_i = \\sigma( \\vec{w}^T \\vec{x_i} )$ </center>\n",
    "<center>$L(\\vec{w}) = \\sum_i y_i lg(\\hat{y}_i)+(1−y_i)lg(1−\\hat{y}_i)$ </center>\n",
    "show that:\n",
    "<center> $\\nabla_{\\vec{w}}L(\\vec{w}) = \\sum_i(y_i - \\hat{y}_i)\\vec{x_i}$ </center>\n",
    "(hint: use the notation defined in Q4)\n",
    "<br/>\n",
    "<br/>\n",
    "<font color='blue'> \n",
    "<p>Answer: $\\nabla_{\\vec{w}}L(\\vec{w}) = \\sum_i \\frac{\\partial{L}}{\\partial{\\hat{y}_i}}\\nabla_{\\vec{w}}\\hat{y}_i$</p>\n",
    "<p>$=\\sum_i (\\frac{y_i}{\\hat{y}_i} - \\frac{1-y_i}{1-\\hat{y}_i}) [\\hat{y}_i(1-\\hat{y}_i)\\nabla_{\\vec{w}}(\\vec{w}^T \\vec{x_i})]$</p>\n",
    "<p>$=\\sum_i(y_i - \\hat{y}_i)\\vec{x_i}$</p>\n",
    "</font>\n",
    "\n",
    "\n",
    "6. In a CNN illustrated as Fig 1, suppose the loss function is:\n",
    "<center> $L(\\overleftrightarrow{U}, \\vec{w}) = \\sum_i y_i lg(\\hat{y}_i)+(1−y_i)lg(1−\\hat{y}_i)$ </center>\n",
    "From the conclusion in Q5, we can get that:\n",
    "<center> $\\nabla_w L(\\overleftrightarrow{U}, \\vec{w}) = \\sum_i (y_i -\\hat{y}_i)\\vec{h}^{(i)}$ </center>\n",
    "Can you calculate $\\nabla_{u_i}L(U,w)$ using similar techniques?\n",
    "\n",
    "<img src=\"CNN.png\" style=\"width:700px\">\n",
    "\n",
    "<font color='blue'> \n",
    "<p>Answer: $\\hat{y}_i = \\sigma(\\vec{w}^T \\vec{h_i}) = \\sigma(\\vec{w}^T {tanh(\\overleftrightarrow{U_i} \\vec{x_i}}))$</p>\n",
    "<p>$\\nabla_{\\overleftrightarrow{u_i}}L(\\overleftrightarrow{U}, \\vec{w}) = \\nabla_{\\overleftrightarrow{u_i}} [y_i lg(\\hat{y}_i)+(1−y_i)lg(1−\\hat{y}_i)]$</p>\n",
    "<p>$=(y_i-\\hat{y}_i)\\nabla_{\\overleftrightarrow{u_i}}(\\vec{w_i}^T \\vec{h_i})$</p>\n",
    "<p>$=(y_i-\\hat{y}_i)\\nabla_{\\overleftrightarrow{u_i}}[\\vec{w_i}^Ttanh(\\overleftrightarrow{U_i} \\vec{x_i})]$</p>\n",
    "<p>$=(y_i-\\hat{y}_i)\\nabla_{\\overleftrightarrow{u_i}}(\\sum_j \\sum_k w_{ij} tanh(U_{ijk} x_{ik}))$</p>\n",
    "<p>denote the answer = $\\overleftrightarrow{A}$</p>\n",
    "<p>$\\overleftrightarrow{A}_{jk} = (y_i-\\hat{y}_i){w_{ij}(1-h_{ij}^2)x_{ik}}$</p>\n",
    "</font>\n",
    "\n",
    "<h3> 2. Coding exercise </h3>\n",
    "\n",
    "Follow the instruction in the notebook, and implement the missing code to build the CNN classifier from scratch. Note that the training might be very slow. Consider reducing the training data size and vocabulary size for testing your code. Ask questions in Piazza if you get blocked.\n",
    "\n",
    "Hint: In this CNN, words should be one-hot encoded, but we actually numerically encoded it in the code. This is a sparse trick we did to boost the efficiency, try to understand how it works.\n",
    "\n",
    "Some of the key details you will have a chance to implement:\n",
    "- Forward propagation of a CNN network\n",
    "- Backward propagation of a CNN network\n",
    "- Numerical gradient checking \n",
    "- Use Keras and TensorFlow to implement more complex CNN networks\n",
    "    \n",
    "You are given the following files:\n",
    "- `hw02.ipynb`: Notebook file with starter code\n",
    "- `train.txt`: Training set to train your model\n",
    "- `test.txt`: Test set to report your model’s performance\n",
    "- `sample_prediction.csv`: Sample file your prediction result should look like\n",
    "- `utils/`: folder containing all utility code for the series of homeworks\n",
    "\n",
    "<h3> 3. Deliverables (zip them all) </h3>\n",
    "\n",
    "- pdf version of your final notebook.\n",
    "- Use the best model you trained, generate the prediction for test.txt, name the\n",
    "output file prediction.csv (Be careful: the best model in your training set might not\n",
    "be the best model for the test set).\n",
    "- After you finished the run, does the model perform better than the bag of words\n",
    "model you built last week? What do you think that contributes to the difference in\n",
    "performance?\n",
    "- HW1_writeup.pdf: summarize the method you used and report their performance.\n",
    "If you worked on the optional task, add the discussion. Add a short essay\n",
    "discussing the biggest challenges you encounter during this assignment and\n",
    "what you have learnt.\n",
    "\n",
    "(**You are encouraged to add the writeup doc into your notebook\n",
    "using markdown/html langauge, just like how this notes is prepared**)"
   ]
  },
  {
   "cell_type": "markdown",
   "metadata": {},
   "source": [
    "<font color='blue'> <center> <h1> HW2 write up </h1> </center></font>\n",
    "    Generally, it is hard to reach to higher score than the naive bag-of-word model. \n",
    "<font color='blue'><h2> Manual CNN </h2></font>\n",
    "    We have use a lot of mathamatically knowledge including linear algebra, matrix operations, calculas. The main challenage here is to understand the numerically encoding trick, and to derive the matrix form gradient descent formula correctly. The sparse trick is to only use/update those matrix elements in U, which has a numerically coding in the dataset sliding window. \n",
    "    \n",
    "   I think the best way for me, to derive the vector/matrix gradient is just to write it out explicitly. \n",
    "    \n",
    "   I also find that if the window size is 2, then we only reach ~70% of accuracy, but if the window size is 3, then we can reach to 74%.\n",
    "    \n",
    "<font color='blue'><h2> Keras CNN </h2></font>\n",
    "    Without further tuning. The dev accuracy on the same dataset performs worse than the Logistic regression bag of words method. Although the CNN utilizes the position information between the words, if the window_size is small like 2, then it would similar as a 2-gram bag of words problem. We performed a maxpooling on the sentences to extract the window that contains the most important information, the bag of words use all the words in the corpus, so the maxpooling might lose information potentially. Also, the CNN model has a lot of parameters, so it would easily overfit without proper regulazations. We can see that the training accuracy is very hight like 90% and keep incrasing while the dev accuracy just keep on the 70% level, that is a sign of overfitting.\n",
    "    \n",
    "<font color='blue'><h2> Keras Own model </h2></font>\n",
    "    Observing that the present Keras CNN model needs to add regulazations and decrease learning rate. I did not change the structure of the network, and add l2 regulazation with $\\lambda$ = 0.01, and decreased learning rate.\n",
    "    It is obvious that if we increase the truncate size from 100 to 300, that we can also increase our accuracy by acquiring more information in the text.\n",
    "    Of course I want to learn more lessons on how to tune hyperparameters to make the model improve more.\n"
   ]
  },
  {
   "cell_type": "markdown",
   "metadata": {},
   "source": [
    "# =============== Coding Starts Here ==================="
   ]
  },
  {
   "cell_type": "code",
   "execution_count": null,
   "metadata": {
    "ExecuteTime": {
     "end_time": "2020-03-01T22:47:18.404322Z",
     "start_time": "2020-03-01T22:47:18.235083Z"
    }
   },
   "outputs": [],
   "source": [
    "%load_ext autoreload\n",
    "%autoreload 2\n",
    "%matplotlib inline\n",
    "import os\n",
    "import sys\n",
    "import pandas as pd\n",
    "import numpy as np\n",
    "from nltk.stem import WordNetLemmatizer\n",
    "from nltk import word_tokenize\n",
    "\n",
    "# add utils folder to path\n",
    "p = os.path.dirname(os.getcwd())\n",
    "if p not in sys.path:\n",
    "    sys.path = [p] + sys.path\n",
    "\n",
    "from utils.hw2 import load_data, save_prediction, read_vocab\n",
    "from utils.general import sigmoid, tanh, show_keras_model"
   ]
  },
  {
   "cell_type": "markdown",
   "metadata": {
    "ExecuteTime": {
     "end_time": "2019-03-18T04:40:29.169465Z",
     "start_time": "2019-03-18T04:40:29.086590Z"
    }
   },
   "source": [
    "# CNN model \n",
    "Complete the code block in the cells in this section.\n",
    "\n",
    "* step1: Implement the pipeline method to process the raw input\n",
    "* step2: Implement the forward method\n",
    "* step3: Implement the backward method\n",
    "* step4: Run the cell below to train your model"
   ]
  },
  {
   "cell_type": "code",
   "execution_count": 46,
   "metadata": {
    "ExecuteTime": {
     "end_time": "2019-03-19T07:00:18.632501Z",
     "start_time": "2019-03-19T06:47:59.260497Z"
    }
   },
   "outputs": [
    {
     "name": "stdout",
     "output_type": "stream",
     "text": [
      "Epoch: 0\tTrain accuracy: 0.558\tDev accuracy: 0.549\n",
      "Epoch: 1\tTrain accuracy: 0.608\tDev accuracy: 0.593\n",
      "Epoch: 2\tTrain accuracy: 0.676\tDev accuracy: 0.625\n",
      "Epoch: 3\tTrain accuracy: 0.772\tDev accuracy: 0.662\n",
      "Epoch: 4\tTrain accuracy: 0.868\tDev accuracy: 0.687\n",
      "Epoch: 5\tTrain accuracy: 0.947\tDev accuracy: 0.711\n",
      "Epoch: 6\tTrain accuracy: 0.985\tDev accuracy: 0.724\n",
      "Epoch: 7\tTrain accuracy: 0.995\tDev accuracy: 0.731\n",
      "Epoch: 8\tTrain accuracy: 0.998\tDev accuracy: 0.732\n",
      "Epoch: 9\tTrain accuracy: 0.999\tDev accuracy: 0.735\n",
      "Epoch: 10\tTrain accuracy: 0.999\tDev accuracy: 0.736\n",
      "Epoch: 11\tTrain accuracy: 0.999\tDev accuracy: 0.740\n",
      "Epoch: 12\tTrain accuracy: 0.998\tDev accuracy: 0.741\n",
      "Epoch: 13\tTrain accuracy: 0.998\tDev accuracy: 0.742\n",
      "Epoch: 14\tTrain accuracy: 0.998\tDev accuracy: 0.742\n",
      "Epoch: 15\tTrain accuracy: 0.998\tDev accuracy: 0.743\n",
      "Epoch: 16\tTrain accuracy: 0.998\tDev accuracy: 0.743\n",
      "Epoch: 17\tTrain accuracy: 0.998\tDev accuracy: 0.741\n",
      "Epoch: 18\tTrain accuracy: 0.998\tDev accuracy: 0.740\n",
      "Epoch: 19\tTrain accuracy: 0.998\tDev accuracy: 0.740\n"
     ]
    }
   ],
   "source": [
    "\"\"\"\n",
    "This cell shows you how the model will be used, you have to finish the cell below before you\n",
    "can run this cell. \n",
    "\n",
    "Once the implementation is done, you should hype tune the parameters to find the best config\n",
    "\n",
    "Note I only selected 2000 data points to speed up debugging, you should use all the data to train the \n",
    "final model\n",
    "\"\"\"\n",
    "from sklearn.model_selection import train_test_split\n",
    "data = load_data(\"train.txt\")\n",
    "vocab = read_vocab(\"vocab.txt\")\n",
    "X, y = data.text, data.target\n",
    "X_train, X_dev, y_train, y_dev = train_test_split(X, y, test_size=0.3)\n",
    "cls = CNNTextClassificationModel(vocab,window_size=3, F=100, alpha=0.02)\n",
    "cls.train(X_train, y_train, X_dev, y_dev, nEpoch=20)"
   ]
  },
  {
   "cell_type": "code",
   "execution_count": 39,
   "metadata": {
    "ExecuteTime": {
     "end_time": "2019-03-19T07:21:55.709144Z",
     "start_time": "2019-03-19T07:21:55.618177Z"
    }
   },
   "outputs": [],
   "source": [
    "class CNNTextClassificationModel:\n",
    "    def __init__(self, vocab, window_size=2, F=100, alpha=0.1):\n",
    "        \"\"\"\n",
    "        F: number of filters\n",
    "        alpha: back propagatoin learning rate\n",
    "        \"\"\"\n",
    "        self.vocab = vocab\n",
    "        self.window_size = window_size\n",
    "        self.F = F\n",
    "        self.alpha = alpha\n",
    "        \n",
    "        # U and w are the weights of the hidden layer, see Fig 1 in the pdf file\n",
    "        # U is the 1D convolutional layer with shape: voc_size * num_filter * window_size\n",
    "        self.U = np.random.normal(loc=0, scale=0.01, size=(len(vocab), F, window_size))\n",
    "        # w is the weights of the activation layer (after max pooling)\n",
    "        self.w = np.random.normal(loc=0, scale=0.01, size=(F + 1))\n",
    "        \n",
    "    def pipeline(self, X):\n",
    "        \"\"\"\n",
    "        Data processing pipeline to:\n",
    "        1. Tokenize, Normalize the raw input\n",
    "        2. Translate raw data input into numerical encoded vectors\n",
    "        \n",
    "        :param X: raw data input\n",
    "        :return: list of lists\n",
    "        \n",
    "        For example:\n",
    "        X = [[\"Apples orange banana\"]\n",
    "         [\"orange apple bananas\"]] \n",
    "        returns:\n",
    "        [[0, 1, 2], \n",
    "         [1, 0, 2]]\n",
    "        \"\"\"\n",
    "        \n",
    "        X2 = []\n",
    "        for row in X:\n",
    "            words = word_tokenize(row.lower())\n",
    "            if len(words) < self.window_size:\n",
    "                words.extend((self.window_size-len(words))*'__unknown__')\n",
    "            row2 = []\n",
    "            for word in words:\n",
    "                row2.append(self.vocab.get(WordNetLemmatizer().lemmatize(word), len(self.vocab)-1))\n",
    "            X2.append(row2)\n",
    "        return X2\n",
    "    \n",
    "    @staticmethod\n",
    "    def accuracy(probs, labels):\n",
    "        assert len(probs) == len(labels), \"Wrong input!!\"\n",
    "        a = np.array(probs)\n",
    "        b = np.array(labels)\n",
    "        return 1.0 * (a==b).sum() / len(b) \n",
    "          \n",
    "    def train(self, X_train, y_train, X_dev, y_dev, nEpoch=50):\n",
    "        \"\"\"\n",
    "        Function to fit the model\n",
    "        :param X_train, X_dev: raw data input\n",
    "        :param y_train, y_dev: label \n",
    "        :nEpoch: number of training epoches\n",
    "        \"\"\"\n",
    "        X_train = self.pipeline(X_train)\n",
    "        X_dev = self.pipeline(X_dev)\n",
    "        for epoch in range(nEpoch):\n",
    "            self.fit(X_train, y_train)\n",
    "\n",
    "            accuracy_train = self.accuracy(self.predict(X_train), y_train)\n",
    "            accuracy_dev = self.accuracy(self.predict(X_dev), y_dev)\n",
    "            \n",
    "            print(\"Epoch: {}\\tTrain accuracy: {:.3f}\\tDev accuracy: {:.3f}\"\n",
    "                  .format(epoch, accuracy_train, accuracy_dev))\n",
    "        \n",
    "    def fit(self, X, y):\n",
    "        \"\"\"\n",
    "        :param X: numerical encoded input\n",
    "        \"\"\"\n",
    "        for (data, label) in zip(X, y):\n",
    "            self.backward(data, label)\n",
    "        \n",
    "        return self\n",
    "        \n",
    "    def predict(self, X):\n",
    "        \"\"\"\n",
    "        :param X: numerical encoded input\n",
    "        \"\"\"\n",
    "        result = []\n",
    "        for data in X:\n",
    "            if self.forward(data)[\"prob\"] > 0.5:\n",
    "                result.append(1)\n",
    "            else:\n",
    "                result.append(0)\n",
    "            \n",
    "        return result\n",
    "    \n",
    "    def forward(self, word_indices):\n",
    "        \"\"\"\n",
    "        :param word_indices: a list of numerically ecoded words\n",
    "        :return: a result dictionary containing 3 items -\n",
    "        result['prob']: \\hat y in Fig 1.\n",
    "        result['h']: the hidden layer output after max pooling, h = [h1, ..., hf]\n",
    "        result['hid']: argmax of F filters, e.g. j of x_j\n",
    "        e.g. for the ith filter u_i, tanh(word[hid[j], hid[j] + width]*u_i) = h_i\n",
    "        \"\"\"\n",
    "        assert len(word_indices) >= self.window_size, \"Input length cannot be shorter than the window size\"\n",
    "        \n",
    "        h = np.zeros(self.F + 1, dtype=float)\n",
    "        hid = np.zeros(self.F, dtype=int)\n",
    "        prob = 0.0\n",
    "\n",
    "        # layer 1. compute h and hid\n",
    "        # loop through the input data of word indices and\n",
    "        # keep track of the max filtered value h_i and its position index x_j\n",
    "        # h_i = max(tanh(weighted sum of all words in a given window)) over all windows for u_i\n",
    "        \n",
    "        # for each training data\n",
    "        # size: U: vocab * F * window_size \n",
    "        # size: X: (vocab * window_size) * token_num \n",
    "        # for each filter: u^T * x = vocab * vocab (make sure windows has interacts?)\n",
    "        # max-pooling: size h -> F + h0 -> 1\n",
    "        # weight: F + 1\n",
    "\n",
    "        for f in range(self.F):\n",
    "            #prodlist = []\n",
    "            for index in range(len(word_indices)-self.window_size+1): #[2,3,0...]\n",
    "                #x = word_indices[index:index+self.window_size] #[[2,3],[3,0],...,],#[[0,0,1,0,0,0,0,1],[0,0,0,1,1,0,0,0]]\n",
    "                # now x is numerical coding, x = (x_0,x_1,...,x_j,...x_ws)\n",
    "                # x_j = i means \\vec{x}_j = [0,0,...,1,...0]^T, \\matrix{x}_ij = 1\n",
    "                prod = 0\n",
    "                # (u^T * x)_ij = \\sum_k u_ki*x_kj (if \\num{x}_j = l) = u_li\n",
    "                for j in range(self.window_size):\n",
    "                    prod += self.U[word_indices[index+j],f,j]\n",
    "                #prodlist.append(prod)\n",
    "            #h[f] = np.max(prodlist)\n",
    "            #hid[f] = np.argmax(prodlist)\n",
    "                if index == 0:\n",
    "                    h[f] = prod\n",
    "                if prod > h[f]:\n",
    "                    h[f] = prod\n",
    "                    hid[f] = index\n",
    "\n",
    "            h[f] = tanh(h[f])\n",
    "        h[self.F] = 1e-4\n",
    "        # layer 2. compute probability\n",
    "        # once h and hid are computed, compute the probabiliy by sigmoid(h^TV)\n",
    "        #print(self.w[self.F],self.w.dot(h))\n",
    "        prob = sigmoid(self.w.dot(h))\n",
    "        #print('hid,w,h,prob',hid,self.w,h,prob)\n",
    "\n",
    "        # return result\n",
    "        return {\"prob\": prob, \"h\": h, \"hid\": hid}\n",
    "    \n",
    "    def backward(self, word_indices, label):\n",
    "        \"\"\"\n",
    "        Update the U, w using backward propagation\n",
    "        \n",
    "        :param word_indices: a list of numerically ecoded words\n",
    "        :param label: int 0 or 1\n",
    "        :return: None\n",
    "        \n",
    "        update weight matrix/vector U and V based on the loss function\n",
    "        \"\"\"\n",
    "        \n",
    "        pred = self.forward(word_indices)\n",
    "        prob = pred[\"prob\"]\n",
    "        h = pred[\"h\"]\n",
    "        hid = pred[\"hid\"]\n",
    "        #print('prob,y','y-prob',prob,label,(label - pred['prob']))\n",
    "        # update U and w here\n",
    "        # to update V: w_new = w_current + d(loss_function)/d(w)*alpha\n",
    "        # to update U: U_new = U_current + d(loss_function)/d(U)*alpha\n",
    "        # Hint: use Q6 in the first part of your homework\n",
    "        #print(label,pred['prob'])\n",
    "        #print('grad,w',self.calc_gradients_w(pred, label),self.w)\n",
    "        self.w = self.w + self.calc_gradients_w(pred, label) * self.alpha\n",
    "        dU = (label - pred['prob']) * self.w * (1 - h**2)\n",
    "        for f in range(self.F):\n",
    "            for j in range(self.window_size):\n",
    "                index = word_indices[hid[f]+j]\n",
    "                self.U[index,f,j] = self.U[index,f,j] +  dU[f] * self.alpha\n",
    "        \n",
    "    def calc_gradients_w(self, pred, y):\n",
    "        #print('w grad',(y - pred['prob']) * pred['h'])\n",
    "        return (y - pred['prob']) * pred['h']"
   ]
  },
  {
   "cell_type": "markdown",
   "metadata": {},
   "source": [
    "# Optional: Build your model using Keras + Tensorflow\n",
    "\n",
    "So far we have always forced you to implement things from scratch. You may feel it's overwhelming, but fortunately, it is not how the real world works. In the real world, there are existing tools you can leverage, so you can focus on the most innovative part of your work. We asked you to do all the previous execises for learning purpose, and since you have already reached so far, it's time to unleash yourself and allow you the access to the real world toolings."
   ]
  },
  {
   "cell_type": "markdown",
   "metadata": {},
   "source": [
    "## Sample model "
   ]
  },
  {
   "cell_type": "code",
   "execution_count": 48,
   "metadata": {
    "ExecuteTime": {
     "end_time": "2019-03-20T05:06:30.995290Z",
     "start_time": "2019-03-20T05:06:30.927192Z"
    }
   },
   "outputs": [],
   "source": [
    "# First let's see how you can build a similar CNN model you just had using Keras\n",
    "from sklearn.pipeline import Pipeline\n",
    "from sklearn.preprocessing import OneHotEncoder\n",
    "\n",
    "MAX_LENGTH = 100"
   ]
  },
  {
   "cell_type": "code",
   "execution_count": 49,
   "metadata": {
    "ExecuteTime": {
     "end_time": "2019-03-20T05:03:13.785839Z",
     "start_time": "2019-03-20T05:03:13.732270Z"
    }
   },
   "outputs": [],
   "source": [
    "# Yes! it is a good practice to do data processing outside the ML model\n",
    "wnet = WordNetLemmatizer()\n",
    "# Numerical encode all the words\n",
    "unknown = vocab['__unknown__']\n",
    "X_train2 = [[vocab.get(wnet.lemmatize(w), unknown) for w in word_tokenize(sent)] for sent in X_train]\n",
    "X_dev2 = [[vocab.get(wnet.lemmatize(w), unknown)for w in word_tokenize(sent)] for sent in X_dev]\n",
    "\n",
    "# Tensorflow does not handle variable length input well, let's unify all input to the same length\n",
    "def trim_X(X, max_length=100, default=vocab['.']):\n",
    "    for i in range(len(X)):\n",
    "        if len(X[i]) > max_length:\n",
    "            X[i] = X[i][:max_length]\n",
    "        elif len(X[i]) < max_length:\n",
    "            X[i] = X[i] + [default] * (max_length - len(X[i]))\n",
    "            \n",
    "    return np.array(X)\n",
    "            \n",
    "X_train2 = trim_X(X_train2, MAX_LENGTH)\n",
    "X_dev2 = trim_X(X_dev2, MAX_LENGTH)\n",
    "\n",
    "\n",
    "# Now we have all the input data nicely encoded with numerical label, and each of the input data are trimmed \n",
    "# to have the same length. We would have needed to further apply one-hot encode for each word. However, this \n",
    "# would be very expensive, since each word will be expanded into a len(vocab) (~10000) length vector. Keras does\n",
    "# not support sparse matrix input at this moment. But don't worry, we will use an advanced technique called embedding\n",
    "# layer. This concept will be introduced in the next lesson. At this moment, you don't have to understand why."
   ]
  },
  {
   "cell_type": "code",
   "execution_count": 50,
   "metadata": {
    "ExecuteTime": {
     "end_time": "2019-03-20T05:38:00.091414Z",
     "start_time": "2019-03-20T05:37:59.875258Z"
    }
   },
   "outputs": [
    {
     "name": "stderr",
     "output_type": "stream",
     "text": [
      "WARNING: Logging before flag parsing goes to stderr.\n",
      "W0313 17:48:33.565071 4701199808 deprecation_wrapper.py:119] From /usr/local/lib/python3.6/site-packages/keras/backend/tensorflow_backend.py:74: The name tf.get_default_graph is deprecated. Please use tf.compat.v1.get_default_graph instead.\n",
      "\n",
      "W0313 17:48:33.620762 4701199808 deprecation_wrapper.py:119] From /usr/local/lib/python3.6/site-packages/keras/backend/tensorflow_backend.py:517: The name tf.placeholder is deprecated. Please use tf.compat.v1.placeholder instead.\n",
      "\n",
      "W0313 17:48:33.636304 4701199808 deprecation_wrapper.py:119] From /usr/local/lib/python3.6/site-packages/keras/backend/tensorflow_backend.py:4138: The name tf.random_uniform is deprecated. Please use tf.random.uniform instead.\n",
      "\n"
     ]
    },
    {
     "name": "stdout",
     "output_type": "stream",
     "text": [
      "_________________________________________________________________\n",
      "Layer (type)                 Output Shape              Param #   \n",
      "=================================================================\n",
      "Embedding-1 (Embedding)      (None, 100, 1024)         10241024  \n",
      "_________________________________________________________________\n",
      "Conv1D-1 (Conv1D)            (None, 99, 100)           204900    \n",
      "_________________________________________________________________\n",
      "MaxPooling1D-1 (GlobalMaxPoo (None, 100)               0         \n",
      "_________________________________________________________________\n",
      "Dense-1 (Dense)              (None, 1)                 101       \n",
      "=================================================================\n",
      "Total params: 10,446,025\n",
      "Trainable params: 10,446,025\n",
      "Non-trainable params: 0\n",
      "_________________________________________________________________\n",
      "None\n"
     ]
    },
    {
     "data": {
      "image/png": "[encoded data removed]",
      "text/plain": [
       "<IPython.core.display.Image object>"
      ]
     },
     "execution_count": 50,
     "metadata": {},
     "output_type": "execute_result"
    }
   ],
   "source": [
    "from keras.models import Sequential\n",
    "from keras.layers import Embedding, Conv1D, MaxPooling1D, Dense, GlobalMaxPooling1D\n",
    "\n",
    "model = Sequential()\n",
    "model.add(Embedding(input_dim=len(vocab), input_length=MAX_LENGTH, output_dim=1024, name=\"Embedding-1\"))\n",
    "model.add(Conv1D(filters=100, kernel_size=2,activation=\"tanh\", name=\"Conv1D-1\"))\n",
    "model.add(GlobalMaxPooling1D(name=\"MaxPooling1D-1\"))\n",
    "model.add(Dense(1, activation=\"sigmoid\", name=\"Dense-1\"))\n",
    "print(model.summary())\n",
    "\n",
    "show_keras_model(model)"
   ]
  },
  {
   "cell_type": "code",
   "execution_count": 51,
   "metadata": {
    "ExecuteTime": {
     "end_time": "2019-03-20T05:39:27.542489Z",
     "start_time": "2019-03-20T05:38:02.612896Z"
    }
   },
   "outputs": [
    {
     "name": "stderr",
     "output_type": "stream",
     "text": [
      "W0313 17:48:33.940645 4701199808 deprecation_wrapper.py:119] From /usr/local/lib/python3.6/site-packages/keras/optimizers.py:790: The name tf.train.Optimizer is deprecated. Please use tf.compat.v1.train.Optimizer instead.\n",
      "\n",
      "W0313 17:48:33.970345 4701199808 deprecation_wrapper.py:119] From /usr/local/lib/python3.6/site-packages/keras/backend/tensorflow_backend.py:3376: The name tf.log is deprecated. Please use tf.math.log instead.\n",
      "\n",
      "W0313 17:48:33.975730 4701199808 deprecation.py:323] From /usr/local/lib/python3.6/site-packages/tensorflow/python/ops/nn_impl.py:180: add_dispatch_support.<locals>.wrapper (from tensorflow.python.ops.array_ops) is deprecated and will be removed in a future version.\n",
      "Instructions for updating:\n",
      "Use tf.where in 2.0, which has the same broadcast rule as np.where\n",
      "W0313 17:48:34.191435 4701199808 deprecation_wrapper.py:119] From /usr/local/lib/python3.6/site-packages/keras/backend/tensorflow_backend.py:986: The name tf.assign_add is deprecated. Please use tf.compat.v1.assign_add instead.\n",
      "\n"
     ]
    },
    {
     "name": "stdout",
     "output_type": "stream",
     "text": [
      "Train on 7000 samples, validate on 3000 samples\n",
      "Epoch 1/10\n",
      "7000/7000 [==============================] - 34s 5ms/step - loss: 0.6198 - acc: 0.6487 - val_loss: 0.5654 - val_acc: 0.6970\n",
      "Epoch 2/10\n",
      "7000/7000 [==============================] - 37s 5ms/step - loss: 0.3878 - acc: 0.8349 - val_loss: 0.5320 - val_acc: 0.7410\n",
      "Epoch 3/10\n",
      "7000/7000 [==============================] - 40s 6ms/step - loss: 0.1807 - acc: 0.9477 - val_loss: 0.5990 - val_acc: 0.7333\n",
      "Epoch 4/10\n",
      "7000/7000 [==============================] - 43s 6ms/step - loss: 0.0665 - acc: 0.9877 - val_loss: 0.7008 - val_acc: 0.7270\n",
      "Epoch 5/10\n",
      "7000/7000 [==============================] - 37s 5ms/step - loss: 0.0208 - acc: 0.9974 - val_loss: 0.8237 - val_acc: 0.7210\n",
      "Epoch 6/10\n",
      "7000/7000 [==============================] - 37s 5ms/step - loss: 0.0077 - acc: 0.9996 - val_loss: 0.9294 - val_acc: 0.7247\n",
      "Epoch 7/10\n",
      "7000/7000 [==============================] - 38s 5ms/step - loss: 0.0040 - acc: 0.9997 - val_loss: 1.0003 - val_acc: 0.7233\n",
      "Epoch 8/10\n",
      "7000/7000 [==============================] - 36s 5ms/step - loss: 0.0027 - acc: 0.9994 - val_loss: 1.0617 - val_acc: 0.7223\n",
      "Epoch 9/10\n",
      "7000/7000 [==============================] - 44s 6ms/step - loss: 0.0021 - acc: 0.9997 - val_loss: 1.1127 - val_acc: 0.7173\n",
      "Epoch 10/10\n",
      "7000/7000 [==============================] - 45s 6ms/step - loss: 0.0016 - acc: 0.9999 - val_loss: 1.1623 - val_acc: 0.7133\n"
     ]
    },
    {
     "data": {
      "text/plain": [
       "<keras.callbacks.History at 0x1442f3860>"
      ]
     },
     "execution_count": 51,
     "metadata": {},
     "output_type": "execute_result"
    }
   ],
   "source": [
    "# Train the model\n",
    "model.compile(loss=\"binary_crossentropy\", optimizer='adam', metrics=['accuracy'])\n",
    "model.fit(X_train2, y_train, epochs=10, validation_data=[X_dev2, y_dev])"
   ]
  },
  {
   "cell_type": "markdown",
   "metadata": {},
   "source": [
    "## Play with your own model"
   ]
  },
  {
   "cell_type": "markdown",
   "metadata": {},
   "source": [
    "We have shown you have to use an industry level tool to build a CNN model. Hopefully you think it is simpler than the version we built from scratch. Not really? Read Keras Documentation and learn more: https://keras.io/ "
   ]
  },
  {
   "cell_type": "code",
   "execution_count": 52,
   "metadata": {
    "ExecuteTime": {
     "end_time": "2019-03-19T07:24:16.164784Z",
     "start_time": "2019-03-19T07:24:16.104613Z"
    },
    "scrolled": true
   },
   "outputs": [],
   "source": [
    "# # Now it's your turn to build some more complicated CNN models\n",
    "from keras import regularizers\n",
    "from keras import optimizers\n",
    "from keras.layers import GlobalAveragePooling1D\n",
    "\n",
    "X_train2 = [[vocab.get(wnet.lemmatize(w), unknown) for w in word_tokenize(sent)] for sent in X_train]\n",
    "X_dev2 = [[vocab.get(wnet.lemmatize(w), unknown)for w in word_tokenize(sent)] for sent in X_dev]\n",
    "X_train3 = trim_X(X_train2, 300)\n",
    "X_dev3 = trim_X(X_dev2, 300)"
   ]
  },
  {
   "cell_type": "code",
   "execution_count": 60,
   "metadata": {},
   "outputs": [
    {
     "name": "stdout",
     "output_type": "stream",
     "text": [
      "_________________________________________________________________\n",
      "Layer (type)                 Output Shape              Param #   \n",
      "=================================================================\n",
      "Embedding-1 (Embedding)      (None, 300, 512)          5120512   \n",
      "_________________________________________________________________\n",
      "Conv1D-1 (Conv1D)            (None, 297, 100)          204900    \n",
      "_________________________________________________________________\n",
      "AveragePooling1D-1 (GlobalAv (None, 100)               0         \n",
      "_________________________________________________________________\n",
      "Dense-1 (Dense)              (None, 1)                 101       \n",
      "=================================================================\n",
      "Total params: 5,325,513\n",
      "Trainable params: 5,325,513\n",
      "Non-trainable params: 0\n",
      "_________________________________________________________________\n",
      "None\n"
     ]
    }
   ],
   "source": [
    "model = Sequential()\n",
    "model.add(Embedding(input_dim=len(vocab), input_length=300, output_dim=512, name=\"Embedding-1\"))\n",
    "model.add(Conv1D(filters=100, kernel_size=4, activation=\"tanh\",kernel_regularizer=regularizers.l2(0.01), name=\"Conv1D-1\"))\n",
    "model.add(GlobalAveragePooling1D(name=\"AveragePooling1D-1\"))\n",
    "model.add(Dense(1, activation=\"sigmoid\",name=\"Dense-1\"))\n",
    "print(model.summary())\n",
    "adam = optimizers.Adam(lr=0.01, beta_1=0.9, beta_2=0.999, amsgrad=False)"
   ]
  },
  {
   "cell_type": "code",
   "execution_count": 61,
   "metadata": {},
   "outputs": [
    {
     "name": "stdout",
     "output_type": "stream",
     "text": [
      "Train on 7000 samples, validate on 3000 samples\n",
      "Epoch 1/20\n",
      "7000/7000 [==============================] - 37s 5ms/step - loss: 0.8270 - acc: 0.4977 - val_loss: 0.6930 - val_acc: 0.5043\n",
      "Epoch 2/20\n",
      "7000/7000 [==============================] - 37s 5ms/step - loss: 0.6879 - acc: 0.5554 - val_loss: 0.6753 - val_acc: 0.6607\n",
      "Epoch 3/20\n",
      "7000/7000 [==============================] - 37s 5ms/step - loss: 0.6264 - acc: 0.6753 - val_loss: 0.6301 - val_acc: 0.6150\n",
      "Epoch 4/20\n",
      "7000/7000 [==============================] - 37s 5ms/step - loss: 0.5314 - acc: 0.7743 - val_loss: 0.5892 - val_acc: 0.7517\n",
      "Epoch 5/20\n",
      "7000/7000 [==============================] - 37s 5ms/step - loss: 0.4630 - acc: 0.8181 - val_loss: 0.5723 - val_acc: 0.7473\n",
      "Epoch 6/20\n",
      "7000/7000 [==============================] - 40s 6ms/step - loss: 0.4088 - acc: 0.8520 - val_loss: 0.5865 - val_acc: 0.7360\n",
      "Epoch 7/20\n",
      "7000/7000 [==============================] - 37s 5ms/step - loss: 0.3605 - acc: 0.8757 - val_loss: 0.6022 - val_acc: 0.7357\n",
      "Epoch 8/20\n",
      "7000/7000 [==============================] - 37s 5ms/step - loss: 0.3272 - acc: 0.8946 - val_loss: 0.6255 - val_acc: 0.7663\n",
      "Epoch 9/20\n",
      "7000/7000 [==============================] - 37s 5ms/step - loss: 0.3001 - acc: 0.9067 - val_loss: 0.6678 - val_acc: 0.7510\n",
      "Epoch 10/20\n",
      "7000/7000 [==============================] - 37s 5ms/step - loss: 0.2741 - acc: 0.9154 - val_loss: 0.6420 - val_acc: 0.7667\n",
      "Epoch 11/20\n",
      "7000/7000 [==============================] - 37s 5ms/step - loss: 0.2505 - acc: 0.9271 - val_loss: 0.6735 - val_acc: 0.7477\n",
      "Epoch 12/20\n",
      "7000/7000 [==============================] - 37s 5ms/step - loss: 0.2319 - acc: 0.9364 - val_loss: 0.7006 - val_acc: 0.7600\n",
      "Epoch 13/20\n",
      "7000/7000 [==============================] - 37s 5ms/step - loss: 0.2168 - acc: 0.9429 - val_loss: 0.7634 - val_acc: 0.7507\n",
      "Epoch 14/20\n",
      "7000/7000 [==============================] - 39s 6ms/step - loss: 0.2033 - acc: 0.9437 - val_loss: 0.7449 - val_acc: 0.7597\n",
      "Epoch 15/20\n",
      "7000/7000 [==============================] - 38s 5ms/step - loss: 0.1855 - acc: 0.9543 - val_loss: 0.8727 - val_acc: 0.7370\n",
      "Epoch 16/20\n",
      "7000/7000 [==============================] - 37s 5ms/step - loss: 0.1784 - acc: 0.9569 - val_loss: 0.8091 - val_acc: 0.7550\n",
      "Epoch 17/20\n",
      "7000/7000 [==============================] - 38s 5ms/step - loss: 0.1604 - acc: 0.9656 - val_loss: 0.8831 - val_acc: 0.7560\n",
      "Epoch 18/20\n",
      "7000/7000 [==============================] - 37s 5ms/step - loss: 0.1571 - acc: 0.9630 - val_loss: 0.8416 - val_acc: 0.7550\n",
      "Epoch 19/20\n",
      "7000/7000 [==============================] - 37s 5ms/step - loss: 0.1462 - acc: 0.9664 - val_loss: 0.9316 - val_acc: 0.7527\n",
      "Epoch 20/20\n",
      "7000/7000 [==============================] - 38s 5ms/step - loss: 0.1363 - acc: 0.9710 - val_loss: 0.9500 - val_acc: 0.7403\n"
     ]
    },
    {
     "data": {
      "text/plain": [
       "<keras.callbacks.History at 0x11af80710>"
      ]
     },
     "execution_count": 61,
     "metadata": {},
     "output_type": "execute_result"
    }
   ],
   "source": [
    "model.compile(loss=\"binary_crossentropy\", optimizer='adam', metrics=['accuracy'])\n",
    "model.fit(X_train3, y_train, epochs=20, validation_data=[X_dev3, y_dev])"
   ]
  },
  {
   "cell_type": "code",
   "execution_count": 64,
   "metadata": {},
   "outputs": [],
   "source": [
    "X_test = load_data(\"test.txt\").text\n",
    "X_test = [[vocab.get(wnet.lemmatize(w), unknown)for w in word_tokenize(sent)] for sent in X_test]\n",
    "X_test = trim_X(X_test, 300)\n",
    "y_test = model.predict(X_test)\n",
    "y_test = [y > 0.5 for y in y_test]\n",
    "save_prediction(y_test)"
   ]
  },
  {
   "cell_type": "code",
   "execution_count": null,
   "metadata": {},
   "outputs": [],
   "source": []
  }
 ],
 "metadata": {
  "celltoolbar": "Raw Cell Format",
  "kernelspec": {
   "display_name": "Python 3",
   "language": "python",
   "name": "python3"
  },
  "language_info": {
   "codemirror_mode": {
    "name": "ipython",
    "version": 3
   },
   "file_extension": ".py",
   "mimetype": "text/x-python",
   "name": "python",
   "nbconvert_exporter": "python",
   "pygments_lexer": "ipython3",
   "version": "3.6.5"
  },
  "toc": {
   "base_numbering": 1,
   "nav_menu": {},
   "number_sections": false,
   "sideBar": true,
   "skip_h1_title": false,
   "title_cell": "Table of Contents",
   "title_sidebar": "Contents",
   "toc_cell": false,
   "toc_position": {
    "height": "calc(100% - 180px)",
    "left": "10px",
    "top": "150px",
    "width": "336px"
   },
   "toc_section_display": true,
   "toc_window_display": true
  }
 },
 "nbformat": 4,
 "nbformat_minor": 2
}
